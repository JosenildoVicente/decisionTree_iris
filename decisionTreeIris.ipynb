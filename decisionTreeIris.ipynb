{
  "nbformat": 4,
  "nbformat_minor": 0,
  "metadata": {
    "colab": {
      "name": "decisionTreeIris.ipynb",
      "provenance": [],
      "collapsed_sections": [],
      "authorship_tag": "ABX9TyO2HdoJ1wCvZZhzI6OZc/qh",
      "include_colab_link": true
    },
    "kernelspec": {
      "name": "python3",
      "display_name": "Python 3"
    },
    "language_info": {
      "name": "python"
    },
    "widgets": {
      "application/vnd.jupyter.widget-state+json": {
        "69c22a1f53264f9cb84a743ea012e844": {
          "model_module": "@jupyter-widgets/controls",
          "model_name": "VBoxModel",
          "state": {
            "_view_name": "VBoxView",
            "_dom_classes": [
              "widget-interact"
            ],
            "_model_name": "VBoxModel",
            "_view_module": "@jupyter-widgets/controls",
            "_model_module_version": "1.5.0",
            "_view_count": null,
            "_view_module_version": "1.5.0",
            "box_style": "",
            "layout": "IPY_MODEL_497490bc5a6444a8add656c190a01ce3",
            "_model_module": "@jupyter-widgets/controls",
            "children": [
              "IPY_MODEL_3eb2627ab4bf46cda27fa8fb21b7c88b",
              "IPY_MODEL_a642eb11cac2464eb924a2023c384e85",
              "IPY_MODEL_41b7d560479549e48db08588c890eb33",
              "IPY_MODEL_3038c15d6a944b23ae80405c495b8fc3",
              "IPY_MODEL_60eac86ef07e4037bf5477df7569fce4",
              "IPY_MODEL_e67f7dae6f30477abd572206f8d0b481"
            ]
          }
        },
        "497490bc5a6444a8add656c190a01ce3": {
          "model_module": "@jupyter-widgets/base",
          "model_name": "LayoutModel",
          "state": {
            "_view_name": "LayoutView",
            "grid_template_rows": null,
            "right": null,
            "justify_content": null,
            "_view_module": "@jupyter-widgets/base",
            "overflow": null,
            "_model_module_version": "1.2.0",
            "_view_count": null,
            "flex_flow": null,
            "width": null,
            "min_width": null,
            "border": null,
            "align_items": null,
            "bottom": null,
            "_model_module": "@jupyter-widgets/base",
            "top": null,
            "grid_column": null,
            "overflow_y": null,
            "overflow_x": null,
            "grid_auto_flow": null,
            "grid_area": null,
            "grid_template_columns": null,
            "flex": null,
            "_model_name": "LayoutModel",
            "justify_items": null,
            "grid_row": null,
            "max_height": null,
            "align_content": null,
            "visibility": null,
            "align_self": null,
            "height": null,
            "min_height": null,
            "padding": null,
            "grid_auto_rows": null,
            "grid_gap": null,
            "max_width": null,
            "order": null,
            "_view_module_version": "1.2.0",
            "grid_template_areas": null,
            "object_position": null,
            "object_fit": null,
            "grid_auto_columns": null,
            "margin": null,
            "display": null,
            "left": null
          }
        },
        "3eb2627ab4bf46cda27fa8fb21b7c88b": {
          "model_module": "@jupyter-widgets/controls",
          "model_name": "DropdownModel",
          "state": {
            "_options_labels": [
              "gini",
              "entropy"
            ],
            "_view_name": "DropdownView",
            "style": "IPY_MODEL_fe6354a3b17a4aadafa0ad0d0c874c08",
            "_dom_classes": [],
            "description": "crit",
            "_model_name": "DropdownModel",
            "index": 0,
            "_view_module": "@jupyter-widgets/controls",
            "_model_module_version": "1.5.0",
            "_view_count": null,
            "disabled": false,
            "_view_module_version": "1.5.0",
            "description_tooltip": null,
            "_model_module": "@jupyter-widgets/controls",
            "layout": "IPY_MODEL_1702dac404f14a17b480c6f27130ae2c"
          }
        },
        "a642eb11cac2464eb924a2023c384e85": {
          "model_module": "@jupyter-widgets/controls",
          "model_name": "DropdownModel",
          "state": {
            "_options_labels": [
              "best",
              "random"
            ],
            "_view_name": "DropdownView",
            "style": "IPY_MODEL_e5f9921db23c4a81910b5434e2b3becb",
            "_dom_classes": [],
            "description": "split",
            "_model_name": "DropdownModel",
            "index": 0,
            "_view_module": "@jupyter-widgets/controls",
            "_model_module_version": "1.5.0",
            "_view_count": null,
            "disabled": false,
            "_view_module_version": "1.5.0",
            "description_tooltip": null,
            "_model_module": "@jupyter-widgets/controls",
            "layout": "IPY_MODEL_df540af1a9f146ffbbcd8ab8426e563f"
          }
        },
        "41b7d560479549e48db08588c890eb33": {
          "model_module": "@jupyter-widgets/controls",
          "model_name": "DropdownModel",
          "state": {
            "_options_labels": [
              "1",
              "2",
              "3",
              "4",
              "5",
              "10",
              "20",
              "30"
            ],
            "_view_name": "DropdownView",
            "style": "IPY_MODEL_8c7ffb790f2f485a829fce57b235f027",
            "_dom_classes": [],
            "description": "depth",
            "_model_name": "DropdownModel",
            "index": 1,
            "_view_module": "@jupyter-widgets/controls",
            "_model_module_version": "1.5.0",
            "_view_count": null,
            "disabled": false,
            "_view_module_version": "1.5.0",
            "description_tooltip": null,
            "_model_module": "@jupyter-widgets/controls",
            "layout": "IPY_MODEL_c20622c45e37405c85404d88b44f6a9e"
          }
        },
        "3038c15d6a944b23ae80405c495b8fc3": {
          "model_module": "@jupyter-widgets/controls",
          "model_name": "IntSliderModel",
          "state": {
            "_view_name": "IntSliderView",
            "style": "IPY_MODEL_fde6fed94d7f44c9bce314e397448500",
            "_dom_classes": [],
            "description": "min_samples_split",
            "step": 1,
            "_model_name": "IntSliderModel",
            "orientation": "horizontal",
            "max": 5,
            "_view_module": "@jupyter-widgets/controls",
            "_model_module_version": "1.5.0",
            "value": 3,
            "_view_count": null,
            "disabled": false,
            "_view_module_version": "1.5.0",
            "min": 1,
            "continuous_update": true,
            "readout_format": "d",
            "description_tooltip": null,
            "readout": true,
            "_model_module": "@jupyter-widgets/controls",
            "layout": "IPY_MODEL_645e7bb482864490b5a73d236f79f2d7"
          }
        },
        "60eac86ef07e4037bf5477df7569fce4": {
          "model_module": "@jupyter-widgets/controls",
          "model_name": "IntSliderModel",
          "state": {
            "_view_name": "IntSliderView",
            "style": "IPY_MODEL_725b423e274b4c52908c4bbcc6c8fbad",
            "_dom_classes": [],
            "description": "min_samples_leaf",
            "step": 1,
            "_model_name": "IntSliderModel",
            "orientation": "horizontal",
            "max": 5,
            "_view_module": "@jupyter-widgets/controls",
            "_model_module_version": "1.5.0",
            "value": 1,
            "_view_count": null,
            "disabled": false,
            "_view_module_version": "1.5.0",
            "min": 1,
            "continuous_update": true,
            "readout_format": "d",
            "description_tooltip": null,
            "readout": true,
            "_model_module": "@jupyter-widgets/controls",
            "layout": "IPY_MODEL_28b7b5eff10d41f2baea628708c9ad8b"
          }
        },
        "e67f7dae6f30477abd572206f8d0b481": {
          "model_module": "@jupyter-widgets/output",
          "model_name": "OutputModel",
          "state": {
            "_view_name": "OutputView",
            "msg_id": "",
            "_dom_classes": [],
            "_model_name": "OutputModel",
            "outputs": [
              {
                "output_type": "display_data",
                "metadata": {
                  "tags": []
                },
                "text/plain": "<IPython.core.display.SVG object>",
                "image/svg+xml": "<svg height=\"314pt\" viewBox=\"0.00 0.00 353.00 314.00\" width=\"353pt\" xmlns=\"http://www.w3.org/2000/svg\" xmlns:xlink=\"http://www.w3.org/1999/xlink\">\n<g class=\"graph\" id=\"graph0\" transform=\"scale(1 1) rotate(0) translate(4 310)\">\n<title>Tree</title>\n<polygon fill=\"#ffffff\" points=\"-4,4 -4,-310 349,-310 349,4 -4,4\" stroke=\"transparent\"/>\n<!-- 0 -->\n<g class=\"node\" id=\"node1\">\n<title>0</title>\n<polygon fill=\"#ffffff\" points=\"196.5,-306 64.5,-306 64.5,-223 196.5,-223 196.5,-306\" stroke=\"#000000\"/>\n<text fill=\"#000000\" font-family=\"Times,serif\" font-size=\"14.00\" text-anchor=\"middle\" x=\"130.5\" y=\"-290.8\">petal width &lt;= 0.8</text>\n<text fill=\"#000000\" font-family=\"Times,serif\" font-size=\"14.00\" text-anchor=\"middle\" x=\"130.5\" y=\"-275.8\">gini = 0.667</text>\n<text fill=\"#000000\" font-family=\"Times,serif\" font-size=\"14.00\" text-anchor=\"middle\" x=\"130.5\" y=\"-260.8\">samples = 150</text>\n<text fill=\"#000000\" font-family=\"Times,serif\" font-size=\"14.00\" text-anchor=\"middle\" x=\"130.5\" y=\"-245.8\">value = [50, 50, 50]</text>\n<text fill=\"#000000\" font-family=\"Times,serif\" font-size=\"14.00\" text-anchor=\"middle\" x=\"130.5\" y=\"-230.8\">class = Iris-setosa</text>\n</g>\n<!-- 1 -->\n<g class=\"node\" id=\"node2\">\n<title>1</title>\n<polygon fill=\"#e58139\" points=\"117,-179.5 0,-179.5 0,-111.5 117,-111.5 117,-179.5\" stroke=\"#000000\"/>\n<text fill=\"#000000\" font-family=\"Times,serif\" font-size=\"14.00\" text-anchor=\"middle\" x=\"58.5\" y=\"-164.3\">gini = 0.0</text>\n<text fill=\"#000000\" font-family=\"Times,serif\" font-size=\"14.00\" text-anchor=\"middle\" x=\"58.5\" y=\"-149.3\">samples = 50</text>\n<text fill=\"#000000\" font-family=\"Times,serif\" font-size=\"14.00\" text-anchor=\"middle\" x=\"58.5\" y=\"-134.3\">value = [50, 0, 0]</text>\n<text fill=\"#000000\" font-family=\"Times,serif\" font-size=\"14.00\" text-anchor=\"middle\" x=\"58.5\" y=\"-119.3\">class = Iris-setosa</text>\n</g>\n<!-- 0&#45;&gt;1 -->\n<g class=\"edge\" id=\"edge1\">\n<title>0-&gt;1</title>\n<path d=\"M105.3179,-222.8796C98.5983,-211.7735 91.3243,-199.7513 84.5586,-188.5691\" fill=\"none\" stroke=\"#000000\"/>\n<polygon fill=\"#000000\" points=\"87.4332,-186.5589 79.262,-179.8149 81.4441,-190.1826 87.4332,-186.5589\" stroke=\"#000000\"/>\n<text fill=\"#000000\" font-family=\"Times,serif\" font-size=\"14.00\" text-anchor=\"middle\" x=\"73.2883\" y=\"-200.3908\">True</text>\n</g>\n<!-- 2 -->\n<g class=\"node\" id=\"node3\">\n<title>2</title>\n<polygon fill=\"#ffffff\" points=\"272,-187 135,-187 135,-104 272,-104 272,-187\" stroke=\"#000000\"/>\n<text fill=\"#000000\" font-family=\"Times,serif\" font-size=\"14.00\" text-anchor=\"middle\" x=\"203.5\" y=\"-171.8\">petal width &lt;= 1.75</text>\n<text fill=\"#000000\" font-family=\"Times,serif\" font-size=\"14.00\" text-anchor=\"middle\" x=\"203.5\" y=\"-156.8\">gini = 0.5</text>\n<text fill=\"#000000\" font-family=\"Times,serif\" font-size=\"14.00\" text-anchor=\"middle\" x=\"203.5\" y=\"-141.8\">samples = 100</text>\n<text fill=\"#000000\" font-family=\"Times,serif\" font-size=\"14.00\" text-anchor=\"middle\" x=\"203.5\" y=\"-126.8\">value = [0, 50, 50]</text>\n<text fill=\"#000000\" font-family=\"Times,serif\" font-size=\"14.00\" text-anchor=\"middle\" x=\"203.5\" y=\"-111.8\">class = Iris-versicolor</text>\n</g>\n<!-- 0&#45;&gt;2 -->\n<g class=\"edge\" id=\"edge2\">\n<title>0-&gt;2</title>\n<path d=\"M156.0319,-222.8796C161.391,-214.1434 167.0979,-204.8404 172.6282,-195.8253\" fill=\"none\" stroke=\"#000000\"/>\n<polygon fill=\"#000000\" points=\"175.6135,-197.6522 177.8592,-187.2981 169.6467,-193.9919 175.6135,-197.6522\" stroke=\"#000000\"/>\n<text fill=\"#000000\" font-family=\"Times,serif\" font-size=\"14.00\" text-anchor=\"middle\" x=\"183.6839\" y=\"-207.9101\">False</text>\n</g>\n<!-- 3 -->\n<g class=\"node\" id=\"node4\">\n<title>3</title>\n<polygon fill=\"#4de88e\" points=\"196,-68 59,-68 59,0 196,0 196,-68\" stroke=\"#000000\"/>\n<text fill=\"#000000\" font-family=\"Times,serif\" font-size=\"14.00\" text-anchor=\"middle\" x=\"127.5\" y=\"-52.8\">gini = 0.168</text>\n<text fill=\"#000000\" font-family=\"Times,serif\" font-size=\"14.00\" text-anchor=\"middle\" x=\"127.5\" y=\"-37.8\">samples = 54</text>\n<text fill=\"#000000\" font-family=\"Times,serif\" font-size=\"14.00\" text-anchor=\"middle\" x=\"127.5\" y=\"-22.8\">value = [0, 49, 5]</text>\n<text fill=\"#000000\" font-family=\"Times,serif\" font-size=\"14.00\" text-anchor=\"middle\" x=\"127.5\" y=\"-7.8\">class = Iris-versicolor</text>\n</g>\n<!-- 2&#45;&gt;3 -->\n<g class=\"edge\" id=\"edge3\">\n<title>2-&gt;3</title>\n<path d=\"M175.2004,-103.9815C169.1238,-95.0666 162.6926,-85.6313 156.5868,-76.6734\" fill=\"none\" stroke=\"#000000\"/>\n<polygon fill=\"#000000\" points=\"159.3789,-74.5555 150.8546,-68.2637 153.5948,-78.498 159.3789,-74.5555\" stroke=\"#000000\"/>\n</g>\n<!-- 4 -->\n<g class=\"node\" id=\"node5\">\n<title>4</title>\n<polygon fill=\"#843de6\" points=\"345,-68 214,-68 214,0 345,0 345,-68\" stroke=\"#000000\"/>\n<text fill=\"#000000\" font-family=\"Times,serif\" font-size=\"14.00\" text-anchor=\"middle\" x=\"279.5\" y=\"-52.8\">gini = 0.043</text>\n<text fill=\"#000000\" font-family=\"Times,serif\" font-size=\"14.00\" text-anchor=\"middle\" x=\"279.5\" y=\"-37.8\">samples = 46</text>\n<text fill=\"#000000\" font-family=\"Times,serif\" font-size=\"14.00\" text-anchor=\"middle\" x=\"279.5\" y=\"-22.8\">value = [0, 1, 45]</text>\n<text fill=\"#000000\" font-family=\"Times,serif\" font-size=\"14.00\" text-anchor=\"middle\" x=\"279.5\" y=\"-7.8\">class = Iris-virginica</text>\n</g>\n<!-- 2&#45;&gt;4 -->\n<g class=\"edge\" id=\"edge4\">\n<title>2-&gt;4</title>\n<path d=\"M231.7996,-103.9815C237.8762,-95.0666 244.3074,-85.6313 250.4132,-76.6734\" fill=\"none\" stroke=\"#000000\"/>\n<polygon fill=\"#000000\" points=\"253.4052,-78.498 256.1454,-68.2637 247.6211,-74.5555 253.4052,-78.498\" stroke=\"#000000\"/>\n</g>\n</g>\n</svg>"
              }
            ],
            "_view_module": "@jupyter-widgets/output",
            "_model_module_version": "1.0.0",
            "_view_count": null,
            "_view_module_version": "1.0.0",
            "layout": "IPY_MODEL_47b9749e68e046d99ed689566f67472f",
            "_model_module": "@jupyter-widgets/output"
          }
        },
        "fe6354a3b17a4aadafa0ad0d0c874c08": {
          "model_module": "@jupyter-widgets/controls",
          "model_name": "DescriptionStyleModel",
          "state": {
            "_view_name": "StyleView",
            "_model_name": "DescriptionStyleModel",
            "description_width": "",
            "_view_module": "@jupyter-widgets/base",
            "_model_module_version": "1.5.0",
            "_view_count": null,
            "_view_module_version": "1.2.0",
            "_model_module": "@jupyter-widgets/controls"
          }
        },
        "1702dac404f14a17b480c6f27130ae2c": {
          "model_module": "@jupyter-widgets/base",
          "model_name": "LayoutModel",
          "state": {
            "_view_name": "LayoutView",
            "grid_template_rows": null,
            "right": null,
            "justify_content": null,
            "_view_module": "@jupyter-widgets/base",
            "overflow": null,
            "_model_module_version": "1.2.0",
            "_view_count": null,
            "flex_flow": null,
            "width": null,
            "min_width": null,
            "border": null,
            "align_items": null,
            "bottom": null,
            "_model_module": "@jupyter-widgets/base",
            "top": null,
            "grid_column": null,
            "overflow_y": null,
            "overflow_x": null,
            "grid_auto_flow": null,
            "grid_area": null,
            "grid_template_columns": null,
            "flex": null,
            "_model_name": "LayoutModel",
            "justify_items": null,
            "grid_row": null,
            "max_height": null,
            "align_content": null,
            "visibility": null,
            "align_self": null,
            "height": null,
            "min_height": null,
            "padding": null,
            "grid_auto_rows": null,
            "grid_gap": null,
            "max_width": null,
            "order": null,
            "_view_module_version": "1.2.0",
            "grid_template_areas": null,
            "object_position": null,
            "object_fit": null,
            "grid_auto_columns": null,
            "margin": null,
            "display": null,
            "left": null
          }
        },
        "e5f9921db23c4a81910b5434e2b3becb": {
          "model_module": "@jupyter-widgets/controls",
          "model_name": "DescriptionStyleModel",
          "state": {
            "_view_name": "StyleView",
            "_model_name": "DescriptionStyleModel",
            "description_width": "",
            "_view_module": "@jupyter-widgets/base",
            "_model_module_version": "1.5.0",
            "_view_count": null,
            "_view_module_version": "1.2.0",
            "_model_module": "@jupyter-widgets/controls"
          }
        },
        "df540af1a9f146ffbbcd8ab8426e563f": {
          "model_module": "@jupyter-widgets/base",
          "model_name": "LayoutModel",
          "state": {
            "_view_name": "LayoutView",
            "grid_template_rows": null,
            "right": null,
            "justify_content": null,
            "_view_module": "@jupyter-widgets/base",
            "overflow": null,
            "_model_module_version": "1.2.0",
            "_view_count": null,
            "flex_flow": null,
            "width": null,
            "min_width": null,
            "border": null,
            "align_items": null,
            "bottom": null,
            "_model_module": "@jupyter-widgets/base",
            "top": null,
            "grid_column": null,
            "overflow_y": null,
            "overflow_x": null,
            "grid_auto_flow": null,
            "grid_area": null,
            "grid_template_columns": null,
            "flex": null,
            "_model_name": "LayoutModel",
            "justify_items": null,
            "grid_row": null,
            "max_height": null,
            "align_content": null,
            "visibility": null,
            "align_self": null,
            "height": null,
            "min_height": null,
            "padding": null,
            "grid_auto_rows": null,
            "grid_gap": null,
            "max_width": null,
            "order": null,
            "_view_module_version": "1.2.0",
            "grid_template_areas": null,
            "object_position": null,
            "object_fit": null,
            "grid_auto_columns": null,
            "margin": null,
            "display": null,
            "left": null
          }
        },
        "8c7ffb790f2f485a829fce57b235f027": {
          "model_module": "@jupyter-widgets/controls",
          "model_name": "DescriptionStyleModel",
          "state": {
            "_view_name": "StyleView",
            "_model_name": "DescriptionStyleModel",
            "description_width": "",
            "_view_module": "@jupyter-widgets/base",
            "_model_module_version": "1.5.0",
            "_view_count": null,
            "_view_module_version": "1.2.0",
            "_model_module": "@jupyter-widgets/controls"
          }
        },
        "c20622c45e37405c85404d88b44f6a9e": {
          "model_module": "@jupyter-widgets/base",
          "model_name": "LayoutModel",
          "state": {
            "_view_name": "LayoutView",
            "grid_template_rows": null,
            "right": null,
            "justify_content": null,
            "_view_module": "@jupyter-widgets/base",
            "overflow": null,
            "_model_module_version": "1.2.0",
            "_view_count": null,
            "flex_flow": null,
            "width": null,
            "min_width": null,
            "border": null,
            "align_items": null,
            "bottom": null,
            "_model_module": "@jupyter-widgets/base",
            "top": null,
            "grid_column": null,
            "overflow_y": null,
            "overflow_x": null,
            "grid_auto_flow": null,
            "grid_area": null,
            "grid_template_columns": null,
            "flex": null,
            "_model_name": "LayoutModel",
            "justify_items": null,
            "grid_row": null,
            "max_height": null,
            "align_content": null,
            "visibility": null,
            "align_self": null,
            "height": null,
            "min_height": null,
            "padding": null,
            "grid_auto_rows": null,
            "grid_gap": null,
            "max_width": null,
            "order": null,
            "_view_module_version": "1.2.0",
            "grid_template_areas": null,
            "object_position": null,
            "object_fit": null,
            "grid_auto_columns": null,
            "margin": null,
            "display": null,
            "left": null
          }
        },
        "fde6fed94d7f44c9bce314e397448500": {
          "model_module": "@jupyter-widgets/controls",
          "model_name": "SliderStyleModel",
          "state": {
            "_view_name": "StyleView",
            "handle_color": null,
            "_model_name": "SliderStyleModel",
            "description_width": "",
            "_view_module": "@jupyter-widgets/base",
            "_model_module_version": "1.5.0",
            "_view_count": null,
            "_view_module_version": "1.2.0",
            "_model_module": "@jupyter-widgets/controls"
          }
        },
        "645e7bb482864490b5a73d236f79f2d7": {
          "model_module": "@jupyter-widgets/base",
          "model_name": "LayoutModel",
          "state": {
            "_view_name": "LayoutView",
            "grid_template_rows": null,
            "right": null,
            "justify_content": null,
            "_view_module": "@jupyter-widgets/base",
            "overflow": null,
            "_model_module_version": "1.2.0",
            "_view_count": null,
            "flex_flow": null,
            "width": null,
            "min_width": null,
            "border": null,
            "align_items": null,
            "bottom": null,
            "_model_module": "@jupyter-widgets/base",
            "top": null,
            "grid_column": null,
            "overflow_y": null,
            "overflow_x": null,
            "grid_auto_flow": null,
            "grid_area": null,
            "grid_template_columns": null,
            "flex": null,
            "_model_name": "LayoutModel",
            "justify_items": null,
            "grid_row": null,
            "max_height": null,
            "align_content": null,
            "visibility": null,
            "align_self": null,
            "height": null,
            "min_height": null,
            "padding": null,
            "grid_auto_rows": null,
            "grid_gap": null,
            "max_width": null,
            "order": null,
            "_view_module_version": "1.2.0",
            "grid_template_areas": null,
            "object_position": null,
            "object_fit": null,
            "grid_auto_columns": null,
            "margin": null,
            "display": null,
            "left": null
          }
        },
        "725b423e274b4c52908c4bbcc6c8fbad": {
          "model_module": "@jupyter-widgets/controls",
          "model_name": "SliderStyleModel",
          "state": {
            "_view_name": "StyleView",
            "handle_color": null,
            "_model_name": "SliderStyleModel",
            "description_width": "",
            "_view_module": "@jupyter-widgets/base",
            "_model_module_version": "1.5.0",
            "_view_count": null,
            "_view_module_version": "1.2.0",
            "_model_module": "@jupyter-widgets/controls"
          }
        },
        "28b7b5eff10d41f2baea628708c9ad8b": {
          "model_module": "@jupyter-widgets/base",
          "model_name": "LayoutModel",
          "state": {
            "_view_name": "LayoutView",
            "grid_template_rows": null,
            "right": null,
            "justify_content": null,
            "_view_module": "@jupyter-widgets/base",
            "overflow": null,
            "_model_module_version": "1.2.0",
            "_view_count": null,
            "flex_flow": null,
            "width": null,
            "min_width": null,
            "border": null,
            "align_items": null,
            "bottom": null,
            "_model_module": "@jupyter-widgets/base",
            "top": null,
            "grid_column": null,
            "overflow_y": null,
            "overflow_x": null,
            "grid_auto_flow": null,
            "grid_area": null,
            "grid_template_columns": null,
            "flex": null,
            "_model_name": "LayoutModel",
            "justify_items": null,
            "grid_row": null,
            "max_height": null,
            "align_content": null,
            "visibility": null,
            "align_self": null,
            "height": null,
            "min_height": null,
            "padding": null,
            "grid_auto_rows": null,
            "grid_gap": null,
            "max_width": null,
            "order": null,
            "_view_module_version": "1.2.0",
            "grid_template_areas": null,
            "object_position": null,
            "object_fit": null,
            "grid_auto_columns": null,
            "margin": null,
            "display": null,
            "left": null
          }
        },
        "47b9749e68e046d99ed689566f67472f": {
          "model_module": "@jupyter-widgets/base",
          "model_name": "LayoutModel",
          "state": {
            "_view_name": "LayoutView",
            "grid_template_rows": null,
            "right": null,
            "justify_content": null,
            "_view_module": "@jupyter-widgets/base",
            "overflow": null,
            "_model_module_version": "1.2.0",
            "_view_count": null,
            "flex_flow": null,
            "width": null,
            "min_width": null,
            "border": null,
            "align_items": null,
            "bottom": null,
            "_model_module": "@jupyter-widgets/base",
            "top": null,
            "grid_column": null,
            "overflow_y": null,
            "overflow_x": null,
            "grid_auto_flow": null,
            "grid_area": null,
            "grid_template_columns": null,
            "flex": null,
            "_model_name": "LayoutModel",
            "justify_items": null,
            "grid_row": null,
            "max_height": null,
            "align_content": null,
            "visibility": null,
            "align_self": null,
            "height": null,
            "min_height": null,
            "padding": null,
            "grid_auto_rows": null,
            "grid_gap": null,
            "max_width": null,
            "order": null,
            "_view_module_version": "1.2.0",
            "grid_template_areas": null,
            "object_position": null,
            "object_fit": null,
            "grid_auto_columns": null,
            "margin": null,
            "display": null,
            "left": null
          }
        }
      }
    }
  },
  "cells": [
    {
      "cell_type": "markdown",
      "metadata": {
        "id": "view-in-github",
        "colab_type": "text"
      },
      "source": [
        "<a href=\"https://colab.research.google.com/github/JosenildoVicente/decisionTree_iris/blob/main/decisionTreeIris.ipynb\" target=\"_parent\"><img src=\"https://colab.research.google.com/assets/colab-badge.svg\" alt=\"Open In Colab\"/></a>"
      ]
    },
    {
      "cell_type": "code",
      "metadata": {
        "id": "U4_T_Mc8-X5y"
      },
      "source": [
        "import pandas as pd\n",
        "from sklearn.tree import DecisionTreeClassifier,export_graphviz\n",
        "from sklearn.model_selection import train_test_split\n",
        "from sklearn import metrics\n",
        "import numpy as np"
      ],
      "execution_count": 1,
      "outputs": []
    },
    {
      "cell_type": "markdown",
      "metadata": {
        "id": "FoQ7Tgx29qF_"
      },
      "source": [
        "# Upload de dataset"
      ]
    },
    {
      "cell_type": "code",
      "metadata": {
        "id": "vdZ09xEX9mMk"
      },
      "source": [
        "data = pd.read_csv( \"https://raw.githubusercontent.com/JosenildoVicente/decisionTree_iris/main/iris.csv\", encoding=\"ISO-8859-1\" )"
      ],
      "execution_count": 2,
      "outputs": []
    },
    {
      "cell_type": "code",
      "metadata": {
        "colab": {
          "base_uri": "https://localhost:8080/",
          "height": 198
        },
        "id": "SpgNzUAh-Nun",
        "outputId": "4ce63b53-2591-4b67-b82c-21c3bd8e785d"
      },
      "source": [
        "data.head()"
      ],
      "execution_count": 3,
      "outputs": [
        {
          "output_type": "execute_result",
          "data": {
            "text/html": [
              "<div>\n",
              "<style scoped>\n",
              "    .dataframe tbody tr th:only-of-type {\n",
              "        vertical-align: middle;\n",
              "    }\n",
              "\n",
              "    .dataframe tbody tr th {\n",
              "        vertical-align: top;\n",
              "    }\n",
              "\n",
              "    .dataframe thead th {\n",
              "        text-align: right;\n",
              "    }\n",
              "</style>\n",
              "<table border=\"1\" class=\"dataframe\">\n",
              "  <thead>\n",
              "    <tr style=\"text-align: right;\">\n",
              "      <th></th>\n",
              "      <th>sepal length</th>\n",
              "      <th>sepal width</th>\n",
              "      <th>petal length</th>\n",
              "      <th>petal width</th>\n",
              "      <th>class</th>\n",
              "    </tr>\n",
              "  </thead>\n",
              "  <tbody>\n",
              "    <tr>\n",
              "      <th>0</th>\n",
              "      <td>5.1</td>\n",
              "      <td>3.5</td>\n",
              "      <td>1.4</td>\n",
              "      <td>0.2</td>\n",
              "      <td>Iris-setosa</td>\n",
              "    </tr>\n",
              "    <tr>\n",
              "      <th>1</th>\n",
              "      <td>4.9</td>\n",
              "      <td>3.0</td>\n",
              "      <td>1.4</td>\n",
              "      <td>0.2</td>\n",
              "      <td>Iris-setosa</td>\n",
              "    </tr>\n",
              "    <tr>\n",
              "      <th>2</th>\n",
              "      <td>4.7</td>\n",
              "      <td>3.2</td>\n",
              "      <td>1.3</td>\n",
              "      <td>0.2</td>\n",
              "      <td>Iris-setosa</td>\n",
              "    </tr>\n",
              "    <tr>\n",
              "      <th>3</th>\n",
              "      <td>4.6</td>\n",
              "      <td>3.1</td>\n",
              "      <td>1.5</td>\n",
              "      <td>0.2</td>\n",
              "      <td>Iris-setosa</td>\n",
              "    </tr>\n",
              "    <tr>\n",
              "      <th>4</th>\n",
              "      <td>5.0</td>\n",
              "      <td>3.6</td>\n",
              "      <td>1.4</td>\n",
              "      <td>0.2</td>\n",
              "      <td>Iris-setosa</td>\n",
              "    </tr>\n",
              "  </tbody>\n",
              "</table>\n",
              "</div>"
            ],
            "text/plain": [
              "   sepal length  sepal width  petal length  petal width        class\n",
              "0           5.1          3.5           1.4          0.2  Iris-setosa\n",
              "1           4.9          3.0           1.4          0.2  Iris-setosa\n",
              "2           4.7          3.2           1.3          0.2  Iris-setosa\n",
              "3           4.6          3.1           1.5          0.2  Iris-setosa\n",
              "4           5.0          3.6           1.4          0.2  Iris-setosa"
            ]
          },
          "metadata": {
            "tags": []
          },
          "execution_count": 3
        }
      ]
    },
    {
      "cell_type": "code",
      "metadata": {
        "colab": {
          "base_uri": "https://localhost:8080/"
        },
        "id": "q8ncEgL0Hzjw",
        "outputId": "7ef1084d-6c0d-4988-8a3f-04046c90bcae"
      },
      "source": [
        "data.info()"
      ],
      "execution_count": 4,
      "outputs": [
        {
          "output_type": "stream",
          "text": [
            "<class 'pandas.core.frame.DataFrame'>\n",
            "RangeIndex: 150 entries, 0 to 149\n",
            "Data columns (total 5 columns):\n",
            " #   Column        Non-Null Count  Dtype  \n",
            "---  ------        --------------  -----  \n",
            " 0   sepal length  150 non-null    float64\n",
            " 1   sepal width   150 non-null    float64\n",
            " 2   petal length  150 non-null    float64\n",
            " 3   petal width   150 non-null    float64\n",
            " 4   class         150 non-null    object \n",
            "dtypes: float64(4), object(1)\n",
            "memory usage: 6.0+ KB\n"
          ],
          "name": "stdout"
        }
      ]
    },
    {
      "cell_type": "markdown",
      "metadata": {
        "id": "vb-Ob17zIEcZ"
      },
      "source": [
        "# Dividindo os dados em treino e teste:"
      ]
    },
    {
      "cell_type": "code",
      "metadata": {
        "id": "lVkr99MZIKEq"
      },
      "source": [
        "X_treino, X_teste, y_treino, y_teste = train_test_split(data.drop('class',axis=1),data['class'],test_size=0.3, stratify=data['class'])"
      ],
      "execution_count": 5,
      "outputs": []
    },
    {
      "cell_type": "code",
      "metadata": {
        "colab": {
          "base_uri": "https://localhost:8080/"
        },
        "id": "F8McRFXDIetR",
        "outputId": "50612eee-b5a9-4404-f585-561ab8bfa917"
      },
      "source": [
        "X_treino.shape,X_teste.shape"
      ],
      "execution_count": 6,
      "outputs": [
        {
          "output_type": "execute_result",
          "data": {
            "text/plain": [
              "((105, 4), (45, 4))"
            ]
          },
          "metadata": {
            "tags": []
          },
          "execution_count": 6
        }
      ]
    },
    {
      "cell_type": "code",
      "metadata": {
        "colab": {
          "base_uri": "https://localhost:8080/"
        },
        "id": "FOOt3s95Imey",
        "outputId": "baa38d2f-24d7-4ffc-d335-69de0189293c"
      },
      "source": [
        "y_treino.shape,y_teste.shape"
      ],
      "execution_count": 7,
      "outputs": [
        {
          "output_type": "execute_result",
          "data": {
            "text/plain": [
              "((105,), (45,))"
            ]
          },
          "metadata": {
            "tags": []
          },
          "execution_count": 7
        }
      ]
    },
    {
      "cell_type": "markdown",
      "metadata": {
        "id": "v-nofrXTJTi0"
      },
      "source": [
        "# Treinamento"
      ]
    },
    {
      "cell_type": "code",
      "metadata": {
        "id": "-8UC5GwyIq05"
      },
      "source": [
        "clf = DecisionTreeClassifier()"
      ],
      "execution_count": 8,
      "outputs": []
    },
    {
      "cell_type": "code",
      "metadata": {
        "id": "tKP8JwN0JVdK"
      },
      "source": [
        "clf = clf.fit(X_treino,y_treino)\n"
      ],
      "execution_count": 9,
      "outputs": []
    },
    {
      "cell_type": "code",
      "metadata": {
        "colab": {
          "base_uri": "https://localhost:8080/"
        },
        "id": "hr3WIK0zJaw6",
        "outputId": "c2cd3a90-2686-43d5-b32f-f35de994268c"
      },
      "source": [
        "clf.feature_importances_"
      ],
      "execution_count": 10,
      "outputs": [
        {
          "output_type": "execute_result",
          "data": {
            "text/plain": [
              "array([0.        , 0.        , 0.07822129, 0.92177871])"
            ]
          },
          "metadata": {
            "tags": []
          },
          "execution_count": 10
        }
      ]
    },
    {
      "cell_type": "code",
      "metadata": {
        "colab": {
          "base_uri": "https://localhost:8080/"
        },
        "id": "r_eBC67YJpG6",
        "outputId": "3cc8aeb6-8549-4bef-dab8-530fda3d8fce"
      },
      "source": [
        "for feature,importancia in zip(data.columns,clf.feature_importances_):\n",
        "    print(\"{}:{}\".format(feature, importancia))\n"
      ],
      "execution_count": 11,
      "outputs": [
        {
          "output_type": "stream",
          "text": [
            "sepal length:0.0\n",
            "sepal width:0.0\n",
            "petal length:0.07822128851540616\n",
            "petal width:0.9217787114845938\n"
          ],
          "name": "stdout"
        }
      ]
    },
    {
      "cell_type": "code",
      "metadata": {
        "colab": {
          "base_uri": "https://localhost:8080/"
        },
        "id": "B8DhBF2LJ3rR",
        "outputId": "38886f05-bf41-44e5-9992-92779d8681e5"
      },
      "source": [
        "resultado = clf.predict(X_teste)\n",
        "resultado"
      ],
      "execution_count": 12,
      "outputs": [
        {
          "output_type": "execute_result",
          "data": {
            "text/plain": [
              "array(['Iris-virginica', 'Iris-virginica', 'Iris-versicolor',\n",
              "       'Iris-setosa', 'Iris-setosa', 'Iris-virginica', 'Iris-versicolor',\n",
              "       'Iris-versicolor', 'Iris-setosa', 'Iris-virginica',\n",
              "       'Iris-versicolor', 'Iris-virginica', 'Iris-versicolor',\n",
              "       'Iris-setosa', 'Iris-virginica', 'Iris-versicolor',\n",
              "       'Iris-virginica', 'Iris-versicolor', 'Iris-versicolor',\n",
              "       'Iris-virginica', 'Iris-setosa', 'Iris-virginica',\n",
              "       'Iris-virginica', 'Iris-setosa', 'Iris-setosa', 'Iris-setosa',\n",
              "       'Iris-setosa', 'Iris-setosa', 'Iris-virginica', 'Iris-setosa',\n",
              "       'Iris-virginica', 'Iris-virginica', 'Iris-versicolor',\n",
              "       'Iris-versicolor', 'Iris-versicolor', 'Iris-versicolor',\n",
              "       'Iris-virginica', 'Iris-setosa', 'Iris-setosa', 'Iris-setosa',\n",
              "       'Iris-versicolor', 'Iris-versicolor', 'Iris-virginica',\n",
              "       'Iris-virginica', 'Iris-setosa'], dtype=object)"
            ]
          },
          "metadata": {
            "tags": []
          },
          "execution_count": 12
        }
      ]
    },
    {
      "cell_type": "code",
      "metadata": {
        "colab": {
          "base_uri": "https://localhost:8080/"
        },
        "id": "mQNk8jVpKDIq",
        "outputId": "f93c8203-8782-41ee-e607-5e22756ca07e"
      },
      "source": [
        "print(metrics.classification_report(y_teste,resultado))"
      ],
      "execution_count": 13,
      "outputs": [
        {
          "output_type": "stream",
          "text": [
            "                 precision    recall  f1-score   support\n",
            "\n",
            "    Iris-setosa       1.00      1.00      1.00        15\n",
            "Iris-versicolor       1.00      0.93      0.97        15\n",
            " Iris-virginica       0.94      1.00      0.97        15\n",
            "\n",
            "       accuracy                           0.98        45\n",
            "      macro avg       0.98      0.98      0.98        45\n",
            "   weighted avg       0.98      0.98      0.98        45\n",
            "\n"
          ],
          "name": "stdout"
        }
      ]
    },
    {
      "cell_type": "markdown",
      "metadata": {
        "id": "JxeszVn_KoAz"
      },
      "source": [
        "#Visualizando arvore"
      ]
    },
    {
      "cell_type": "code",
      "metadata": {
        "colab": {
          "base_uri": "https://localhost:8080/",
          "height": 1000
        },
        "id": "W3UrqP9lKooV",
        "outputId": "40eb0efe-1139-4b2b-a392-f5712aa7ca25"
      },
      "source": [
        "import pydot\n",
        "import graphviz\n",
        "\n",
        "dot_data = export_graphviz( \n",
        "         clf, \n",
        "         out_file=None,\n",
        "         feature_names=data.drop('class',axis=1).columns,\n",
        "         class_names=['Iris-setosa','Iris-versicolor', 'Iris-virginica'],  \n",
        "         filled=True, rounded=True,\n",
        "         proportion=True,\n",
        "         node_ids=True,\n",
        "         rotate=False,\n",
        "         label='all',\n",
        "         special_characters=True\n",
        "        )  \n",
        "graph = graphviz.Source(dot_data)  \n",
        "graph"
      ],
      "execution_count": 14,
      "outputs": [
        {
          "output_type": "execute_result",
          "data": {
            "text/plain": [
              "<graphviz.files.Source at 0x7f41248222d0>"
            ],
            "image/svg+xml": "<?xml version=\"1.0\" encoding=\"UTF-8\" standalone=\"no\"?>\n<!DOCTYPE svg PUBLIC \"-//W3C//DTD SVG 1.1//EN\"\n \"http://www.w3.org/Graphics/SVG/1.1/DTD/svg11.dtd\">\n<!-- Generated by graphviz version 2.40.1 (20161225.0304)\n -->\n<!-- Title: Tree Pages: 1 -->\n<svg width=\"786pt\" height=\"761pt\"\n viewBox=\"0.00 0.00 785.50 761.00\" xmlns=\"http://www.w3.org/2000/svg\" xmlns:xlink=\"http://www.w3.org/1999/xlink\">\n<g id=\"graph0\" class=\"graph\" transform=\"scale(1 1) rotate(0) translate(4 757)\">\n<title>Tree</title>\n<polygon fill=\"#ffffff\" stroke=\"transparent\" points=\"-4,4 -4,-757 781.5,-757 781.5,4 -4,4\"/>\n<!-- 0 -->\n<g id=\"node1\" class=\"node\">\n<title>0</title>\n<path fill=\"#ffffff\" stroke=\"#000000\" d=\"M434,-753C434,-753 258,-753 258,-753 252,-753 246,-747 246,-741 246,-741 246,-667 246,-667 246,-661 252,-655 258,-655 258,-655 434,-655 434,-655 440,-655 446,-661 446,-667 446,-667 446,-741 446,-741 446,-747 440,-753 434,-753\"/>\n<text text-anchor=\"start\" x=\"319\" y=\"-737.8\" font-family=\"Helvetica,sans-Serif\" font-size=\"14.00\" fill=\"#000000\">node #0</text>\n<text text-anchor=\"start\" x=\"289.5\" y=\"-722.8\" font-family=\"Helvetica,sans-Serif\" font-size=\"14.00\" fill=\"#000000\">petal width ≤ 0.75</text>\n<text text-anchor=\"start\" x=\"308\" y=\"-707.8\" font-family=\"Helvetica,sans-Serif\" font-size=\"14.00\" fill=\"#000000\">gini = 0.667</text>\n<text text-anchor=\"start\" x=\"285.5\" y=\"-692.8\" font-family=\"Helvetica,sans-Serif\" font-size=\"14.00\" fill=\"#000000\">samples = 100.0%</text>\n<text text-anchor=\"start\" x=\"254\" y=\"-677.8\" font-family=\"Helvetica,sans-Serif\" font-size=\"14.00\" fill=\"#000000\">value = [0.333, 0.333, 0.333]</text>\n<text text-anchor=\"start\" x=\"287.5\" y=\"-662.8\" font-family=\"Helvetica,sans-Serif\" font-size=\"14.00\" fill=\"#000000\">class = Iris&#45;setosa</text>\n</g>\n<!-- 1 -->\n<g id=\"node2\" class=\"node\">\n<title>1</title>\n<path fill=\"#e58139\" stroke=\"#000000\" d=\"M324.5,-611.5C324.5,-611.5 197.5,-611.5 197.5,-611.5 191.5,-611.5 185.5,-605.5 185.5,-599.5 185.5,-599.5 185.5,-540.5 185.5,-540.5 185.5,-534.5 191.5,-528.5 197.5,-528.5 197.5,-528.5 324.5,-528.5 324.5,-528.5 330.5,-528.5 336.5,-534.5 336.5,-540.5 336.5,-540.5 336.5,-599.5 336.5,-599.5 336.5,-605.5 330.5,-611.5 324.5,-611.5\"/>\n<text text-anchor=\"start\" x=\"234\" y=\"-596.3\" font-family=\"Helvetica,sans-Serif\" font-size=\"14.00\" fill=\"#000000\">node #1</text>\n<text text-anchor=\"start\" x=\"231.5\" y=\"-581.3\" font-family=\"Helvetica,sans-Serif\" font-size=\"14.00\" fill=\"#000000\">gini = 0.0</text>\n<text text-anchor=\"start\" x=\"205\" y=\"-566.3\" font-family=\"Helvetica,sans-Serif\" font-size=\"14.00\" fill=\"#000000\">samples = 33.3%</text>\n<text text-anchor=\"start\" x=\"193.5\" y=\"-551.3\" font-family=\"Helvetica,sans-Serif\" font-size=\"14.00\" fill=\"#000000\">value = [1.0, 0.0, 0.0]</text>\n<text text-anchor=\"start\" x=\"202.5\" y=\"-536.3\" font-family=\"Helvetica,sans-Serif\" font-size=\"14.00\" fill=\"#000000\">class = Iris&#45;setosa</text>\n</g>\n<!-- 0&#45;&gt;1 -->\n<g id=\"edge1\" class=\"edge\">\n<title>0&#45;&gt;1</title>\n<path fill=\"none\" stroke=\"#000000\" d=\"M314.8318,-654.8642C307.658,-643.555 300.0196,-631.5133 292.8187,-620.1612\"/>\n<polygon fill=\"#000000\" stroke=\"#000000\" points=\"295.7244,-618.2077 287.4123,-611.6381 289.8133,-621.9573 295.7244,-618.2077\"/>\n<text text-anchor=\"middle\" x=\"281.9536\" y=\"-632.3349\" font-family=\"Helvetica,sans-Serif\" font-size=\"14.00\" fill=\"#000000\">True</text>\n</g>\n<!-- 2 -->\n<g id=\"node3\" class=\"node\">\n<title>2</title>\n<path fill=\"#ffffff\" stroke=\"#000000\" d=\"M495,-619C495,-619 367,-619 367,-619 361,-619 355,-613 355,-607 355,-607 355,-533 355,-533 355,-527 361,-521 367,-521 367,-521 495,-521 495,-521 501,-521 507,-527 507,-533 507,-533 507,-607 507,-607 507,-613 501,-619 495,-619\"/>\n<text text-anchor=\"start\" x=\"404\" y=\"-603.8\" font-family=\"Helvetica,sans-Serif\" font-size=\"14.00\" fill=\"#000000\">node #2</text>\n<text text-anchor=\"start\" x=\"374.5\" y=\"-588.8\" font-family=\"Helvetica,sans-Serif\" font-size=\"14.00\" fill=\"#000000\">petal width ≤ 1.75</text>\n<text text-anchor=\"start\" x=\"401.5\" y=\"-573.8\" font-family=\"Helvetica,sans-Serif\" font-size=\"14.00\" fill=\"#000000\">gini = 0.5</text>\n<text text-anchor=\"start\" x=\"375\" y=\"-558.8\" font-family=\"Helvetica,sans-Serif\" font-size=\"14.00\" fill=\"#000000\">samples = 66.7%</text>\n<text text-anchor=\"start\" x=\"363.5\" y=\"-543.8\" font-family=\"Helvetica,sans-Serif\" font-size=\"14.00\" fill=\"#000000\">value = [0.0, 0.5, 0.5]</text>\n<text text-anchor=\"start\" x=\"363\" y=\"-528.8\" font-family=\"Helvetica,sans-Serif\" font-size=\"14.00\" fill=\"#000000\">class = Iris&#45;versicolor</text>\n</g>\n<!-- 0&#45;&gt;2 -->\n<g id=\"edge2\" class=\"edge\">\n<title>0&#45;&gt;2</title>\n<path fill=\"none\" stroke=\"#000000\" d=\"M377.1682,-654.8642C382.7695,-646.034 388.6541,-636.7571 394.3925,-627.7106\"/>\n<polygon fill=\"#000000\" stroke=\"#000000\" points=\"397.4345,-629.449 399.8356,-619.1298 391.5235,-625.6994 397.4345,-629.449\"/>\n<text text-anchor=\"middle\" x=\"405.2942\" y=\"-639.8266\" font-family=\"Helvetica,sans-Serif\" font-size=\"14.00\" fill=\"#000000\">False</text>\n</g>\n<!-- 3 -->\n<g id=\"node4\" class=\"node\">\n<title>3</title>\n<path fill=\"#55e993\" stroke=\"#000000\" d=\"M418,-485C418,-485 258,-485 258,-485 252,-485 246,-479 246,-473 246,-473 246,-399 246,-399 246,-393 252,-387 258,-387 258,-387 418,-387 418,-387 424,-387 430,-393 430,-399 430,-399 430,-473 430,-473 430,-479 424,-485 418,-485\"/>\n<text text-anchor=\"start\" x=\"311\" y=\"-469.8\" font-family=\"Helvetica,sans-Serif\" font-size=\"14.00\" fill=\"#000000\">node #3</text>\n<text text-anchor=\"start\" x=\"278.5\" y=\"-454.8\" font-family=\"Helvetica,sans-Serif\" font-size=\"14.00\" fill=\"#000000\">petal length ≤ 4.95</text>\n<text text-anchor=\"start\" x=\"300\" y=\"-439.8\" font-family=\"Helvetica,sans-Serif\" font-size=\"14.00\" fill=\"#000000\">gini = 0.219</text>\n<text text-anchor=\"start\" x=\"282\" y=\"-424.8\" font-family=\"Helvetica,sans-Serif\" font-size=\"14.00\" fill=\"#000000\">samples = 38.1%</text>\n<text text-anchor=\"start\" x=\"254\" y=\"-409.8\" font-family=\"Helvetica,sans-Serif\" font-size=\"14.00\" fill=\"#000000\">value = [0.0, 0.875, 0.125]</text>\n<text text-anchor=\"start\" x=\"270\" y=\"-394.8\" font-family=\"Helvetica,sans-Serif\" font-size=\"14.00\" fill=\"#000000\">class = Iris&#45;versicolor</text>\n</g>\n<!-- 2&#45;&gt;3 -->\n<g id=\"edge3\" class=\"edge\">\n<title>2&#45;&gt;3</title>\n<path fill=\"none\" stroke=\"#000000\" d=\"M396.8983,-520.8642C390.7067,-511.9429 384.1986,-502.5657 377.8587,-493.4309\"/>\n<polygon fill=\"#000000\" stroke=\"#000000\" points=\"380.6746,-491.3495 372.0976,-485.1298 374.9239,-495.3407 380.6746,-491.3495\"/>\n</g>\n<!-- 12 -->\n<g id=\"node13\" class=\"node\">\n<title>12</title>\n<path fill=\"#8139e5\" stroke=\"#000000\" d=\"M587.5,-477.5C587.5,-477.5 460.5,-477.5 460.5,-477.5 454.5,-477.5 448.5,-471.5 448.5,-465.5 448.5,-465.5 448.5,-406.5 448.5,-406.5 448.5,-400.5 454.5,-394.5 460.5,-394.5 460.5,-394.5 587.5,-394.5 587.5,-394.5 593.5,-394.5 599.5,-400.5 599.5,-406.5 599.5,-406.5 599.5,-465.5 599.5,-465.5 599.5,-471.5 593.5,-477.5 587.5,-477.5\"/>\n<text text-anchor=\"start\" x=\"493\" y=\"-462.3\" font-family=\"Helvetica,sans-Serif\" font-size=\"14.00\" fill=\"#000000\">node #12</text>\n<text text-anchor=\"start\" x=\"494.5\" y=\"-447.3\" font-family=\"Helvetica,sans-Serif\" font-size=\"14.00\" fill=\"#000000\">gini = 0.0</text>\n<text text-anchor=\"start\" x=\"468\" y=\"-432.3\" font-family=\"Helvetica,sans-Serif\" font-size=\"14.00\" fill=\"#000000\">samples = 28.6%</text>\n<text text-anchor=\"start\" x=\"456.5\" y=\"-417.3\" font-family=\"Helvetica,sans-Serif\" font-size=\"14.00\" fill=\"#000000\">value = [0.0, 0.0, 1.0]</text>\n<text text-anchor=\"start\" x=\"460.5\" y=\"-402.3\" font-family=\"Helvetica,sans-Serif\" font-size=\"14.00\" fill=\"#000000\">class = Iris&#45;virginica</text>\n</g>\n<!-- 2&#45;&gt;12 -->\n<g id=\"edge12\" class=\"edge\">\n<title>2&#45;&gt;12</title>\n<path fill=\"none\" stroke=\"#000000\" d=\"M465.1017,-520.8642C472.9506,-509.555 481.308,-497.5133 489.1867,-486.1612\"/>\n<polygon fill=\"#000000\" stroke=\"#000000\" points=\"492.2755,-487.849 495.1019,-477.6381 486.5248,-483.8579 492.2755,-487.849\"/>\n</g>\n<!-- 4 -->\n<g id=\"node5\" class=\"node\">\n<title>4</title>\n<path fill=\"#3fe685\" stroke=\"#000000\" d=\"M317,-351C317,-351 157,-351 157,-351 151,-351 145,-345 145,-339 145,-339 145,-265 145,-265 145,-259 151,-253 157,-253 157,-253 317,-253 317,-253 323,-253 329,-259 329,-265 329,-265 329,-339 329,-339 329,-345 323,-351 317,-351\"/>\n<text text-anchor=\"start\" x=\"210\" y=\"-335.8\" font-family=\"Helvetica,sans-Serif\" font-size=\"14.00\" fill=\"#000000\">node #4</text>\n<text text-anchor=\"start\" x=\"180.5\" y=\"-320.8\" font-family=\"Helvetica,sans-Serif\" font-size=\"14.00\" fill=\"#000000\">petal width ≤ 1.65</text>\n<text text-anchor=\"start\" x=\"199\" y=\"-305.8\" font-family=\"Helvetica,sans-Serif\" font-size=\"14.00\" fill=\"#000000\">gini = 0.057</text>\n<text text-anchor=\"start\" x=\"181\" y=\"-290.8\" font-family=\"Helvetica,sans-Serif\" font-size=\"14.00\" fill=\"#000000\">samples = 32.4%</text>\n<text text-anchor=\"start\" x=\"153\" y=\"-275.8\" font-family=\"Helvetica,sans-Serif\" font-size=\"14.00\" fill=\"#000000\">value = [0.0, 0.971, 0.029]</text>\n<text text-anchor=\"start\" x=\"169\" y=\"-260.8\" font-family=\"Helvetica,sans-Serif\" font-size=\"14.00\" fill=\"#000000\">class = Iris&#45;versicolor</text>\n</g>\n<!-- 3&#45;&gt;4 -->\n<g id=\"edge4\" class=\"edge\">\n<title>3&#45;&gt;4</title>\n<path fill=\"none\" stroke=\"#000000\" d=\"M300.9648,-386.8642C294.1719,-377.8519 287.0284,-368.3743 280.0767,-359.1513\"/>\n<polygon fill=\"#000000\" stroke=\"#000000\" points=\"282.8448,-357.0088 274.0307,-351.1298 277.2548,-361.2222 282.8448,-357.0088\"/>\n</g>\n<!-- 7 -->\n<g id=\"node8\" class=\"node\">\n<title>7</title>\n<path fill=\"#c09cf2\" stroke=\"#000000\" d=\"M519,-351C519,-351 359,-351 359,-351 353,-351 347,-345 347,-339 347,-339 347,-265 347,-265 347,-259 353,-253 359,-253 359,-253 519,-253 519,-253 525,-253 531,-259 531,-265 531,-265 531,-339 531,-339 531,-345 525,-351 519,-351\"/>\n<text text-anchor=\"start\" x=\"412\" y=\"-335.8\" font-family=\"Helvetica,sans-Serif\" font-size=\"14.00\" fill=\"#000000\">node #7</text>\n<text text-anchor=\"start\" x=\"382.5\" y=\"-320.8\" font-family=\"Helvetica,sans-Serif\" font-size=\"14.00\" fill=\"#000000\">petal width ≤ 1.55</text>\n<text text-anchor=\"start\" x=\"401\" y=\"-305.8\" font-family=\"Helvetica,sans-Serif\" font-size=\"14.00\" fill=\"#000000\">gini = 0.444</text>\n<text text-anchor=\"start\" x=\"387\" y=\"-290.8\" font-family=\"Helvetica,sans-Serif\" font-size=\"14.00\" fill=\"#000000\">samples = 5.7%</text>\n<text text-anchor=\"start\" x=\"355\" y=\"-275.8\" font-family=\"Helvetica,sans-Serif\" font-size=\"14.00\" fill=\"#000000\">value = [0.0, 0.333, 0.667]</text>\n<text text-anchor=\"start\" x=\"375.5\" y=\"-260.8\" font-family=\"Helvetica,sans-Serif\" font-size=\"14.00\" fill=\"#000000\">class = Iris&#45;virginica</text>\n</g>\n<!-- 3&#45;&gt;7 -->\n<g id=\"edge7\" class=\"edge\">\n<title>3&#45;&gt;7</title>\n<path fill=\"none\" stroke=\"#000000\" d=\"M375.0352,-386.8642C381.8281,-377.8519 388.9716,-368.3743 395.9233,-359.1513\"/>\n<polygon fill=\"#000000\" stroke=\"#000000\" points=\"398.7452,-361.2222 401.9693,-351.1298 393.1552,-357.0088 398.7452,-361.2222\"/>\n</g>\n<!-- 5 -->\n<g id=\"node6\" class=\"node\">\n<title>5</title>\n<path fill=\"#39e581\" stroke=\"#000000\" d=\"M140,-209.5C140,-209.5 12,-209.5 12,-209.5 6,-209.5 0,-203.5 0,-197.5 0,-197.5 0,-138.5 0,-138.5 0,-132.5 6,-126.5 12,-126.5 12,-126.5 140,-126.5 140,-126.5 146,-126.5 152,-132.5 152,-138.5 152,-138.5 152,-197.5 152,-197.5 152,-203.5 146,-209.5 140,-209.5\"/>\n<text text-anchor=\"start\" x=\"49\" y=\"-194.3\" font-family=\"Helvetica,sans-Serif\" font-size=\"14.00\" fill=\"#000000\">node #5</text>\n<text text-anchor=\"start\" x=\"46.5\" y=\"-179.3\" font-family=\"Helvetica,sans-Serif\" font-size=\"14.00\" fill=\"#000000\">gini = 0.0</text>\n<text text-anchor=\"start\" x=\"20\" y=\"-164.3\" font-family=\"Helvetica,sans-Serif\" font-size=\"14.00\" fill=\"#000000\">samples = 31.4%</text>\n<text text-anchor=\"start\" x=\"8.5\" y=\"-149.3\" font-family=\"Helvetica,sans-Serif\" font-size=\"14.00\" fill=\"#000000\">value = [0.0, 1.0, 0.0]</text>\n<text text-anchor=\"start\" x=\"8\" y=\"-134.3\" font-family=\"Helvetica,sans-Serif\" font-size=\"14.00\" fill=\"#000000\">class = Iris&#45;versicolor</text>\n</g>\n<!-- 4&#45;&gt;5 -->\n<g id=\"edge5\" class=\"edge\">\n<title>4&#45;&gt;5</title>\n<path fill=\"none\" stroke=\"#000000\" d=\"M177.9637,-252.8642C163.5765,-240.8898 148.2026,-228.0941 133.8703,-216.1653\"/>\n<polygon fill=\"#000000\" stroke=\"#000000\" points=\"135.9531,-213.3452 126.0279,-209.6381 131.475,-218.7255 135.9531,-213.3452\"/>\n</g>\n<!-- 6 -->\n<g id=\"node7\" class=\"node\">\n<title>6</title>\n<path fill=\"#8139e5\" stroke=\"#000000\" d=\"M309.5,-209.5C309.5,-209.5 182.5,-209.5 182.5,-209.5 176.5,-209.5 170.5,-203.5 170.5,-197.5 170.5,-197.5 170.5,-138.5 170.5,-138.5 170.5,-132.5 176.5,-126.5 182.5,-126.5 182.5,-126.5 309.5,-126.5 309.5,-126.5 315.5,-126.5 321.5,-132.5 321.5,-138.5 321.5,-138.5 321.5,-197.5 321.5,-197.5 321.5,-203.5 315.5,-209.5 309.5,-209.5\"/>\n<text text-anchor=\"start\" x=\"219\" y=\"-194.3\" font-family=\"Helvetica,sans-Serif\" font-size=\"14.00\" fill=\"#000000\">node #6</text>\n<text text-anchor=\"start\" x=\"216.5\" y=\"-179.3\" font-family=\"Helvetica,sans-Serif\" font-size=\"14.00\" fill=\"#000000\">gini = 0.0</text>\n<text text-anchor=\"start\" x=\"194\" y=\"-164.3\" font-family=\"Helvetica,sans-Serif\" font-size=\"14.00\" fill=\"#000000\">samples = 1.0%</text>\n<text text-anchor=\"start\" x=\"178.5\" y=\"-149.3\" font-family=\"Helvetica,sans-Serif\" font-size=\"14.00\" fill=\"#000000\">value = [0.0, 0.0, 1.0]</text>\n<text text-anchor=\"start\" x=\"182.5\" y=\"-134.3\" font-family=\"Helvetica,sans-Serif\" font-size=\"14.00\" fill=\"#000000\">class = Iris&#45;virginica</text>\n</g>\n<!-- 4&#45;&gt;6 -->\n<g id=\"edge6\" class=\"edge\">\n<title>4&#45;&gt;6</title>\n<path fill=\"none\" stroke=\"#000000\" d=\"M240.3002,-252.8642C241.0225,-242.1094 241.7893,-230.6921 242.5185,-219.8354\"/>\n<polygon fill=\"#000000\" stroke=\"#000000\" points=\"246.0253,-219.8502 243.2034,-209.6381 239.0411,-219.3811 246.0253,-219.8502\"/>\n</g>\n<!-- 8 -->\n<g id=\"node9\" class=\"node\">\n<title>8</title>\n<path fill=\"#8139e5\" stroke=\"#000000\" d=\"M494.5,-209.5C494.5,-209.5 367.5,-209.5 367.5,-209.5 361.5,-209.5 355.5,-203.5 355.5,-197.5 355.5,-197.5 355.5,-138.5 355.5,-138.5 355.5,-132.5 361.5,-126.5 367.5,-126.5 367.5,-126.5 494.5,-126.5 494.5,-126.5 500.5,-126.5 506.5,-132.5 506.5,-138.5 506.5,-138.5 506.5,-197.5 506.5,-197.5 506.5,-203.5 500.5,-209.5 494.5,-209.5\"/>\n<text text-anchor=\"start\" x=\"404\" y=\"-194.3\" font-family=\"Helvetica,sans-Serif\" font-size=\"14.00\" fill=\"#000000\">node #8</text>\n<text text-anchor=\"start\" x=\"401.5\" y=\"-179.3\" font-family=\"Helvetica,sans-Serif\" font-size=\"14.00\" fill=\"#000000\">gini = 0.0</text>\n<text text-anchor=\"start\" x=\"379\" y=\"-164.3\" font-family=\"Helvetica,sans-Serif\" font-size=\"14.00\" fill=\"#000000\">samples = 2.9%</text>\n<text text-anchor=\"start\" x=\"363.5\" y=\"-149.3\" font-family=\"Helvetica,sans-Serif\" font-size=\"14.00\" fill=\"#000000\">value = [0.0, 0.0, 1.0]</text>\n<text text-anchor=\"start\" x=\"367.5\" y=\"-134.3\" font-family=\"Helvetica,sans-Serif\" font-size=\"14.00\" fill=\"#000000\">class = Iris&#45;virginica</text>\n</g>\n<!-- 7&#45;&gt;8 -->\n<g id=\"edge8\" class=\"edge\">\n<title>7&#45;&gt;8</title>\n<path fill=\"none\" stroke=\"#000000\" d=\"M436.0665,-252.8642C435.4244,-242.1094 434.7428,-230.6921 434.0947,-219.8354\"/>\n<polygon fill=\"#000000\" stroke=\"#000000\" points=\"437.5757,-219.4117 433.4859,-209.6381 430.5881,-219.829 437.5757,-219.4117\"/>\n</g>\n<!-- 9 -->\n<g id=\"node10\" class=\"node\">\n<title>9</title>\n<path fill=\"#9cf2c0\" stroke=\"#000000\" d=\"M697,-217C697,-217 537,-217 537,-217 531,-217 525,-211 525,-205 525,-205 525,-131 525,-131 525,-125 531,-119 537,-119 537,-119 697,-119 697,-119 703,-119 709,-125 709,-131 709,-131 709,-205 709,-205 709,-211 703,-217 697,-217\"/>\n<text text-anchor=\"start\" x=\"590\" y=\"-201.8\" font-family=\"Helvetica,sans-Serif\" font-size=\"14.00\" fill=\"#000000\">node #9</text>\n<text text-anchor=\"start\" x=\"557.5\" y=\"-186.8\" font-family=\"Helvetica,sans-Serif\" font-size=\"14.00\" fill=\"#000000\">petal length ≤ 5.45</text>\n<text text-anchor=\"start\" x=\"579\" y=\"-171.8\" font-family=\"Helvetica,sans-Serif\" font-size=\"14.00\" fill=\"#000000\">gini = 0.444</text>\n<text text-anchor=\"start\" x=\"565\" y=\"-156.8\" font-family=\"Helvetica,sans-Serif\" font-size=\"14.00\" fill=\"#000000\">samples = 2.9%</text>\n<text text-anchor=\"start\" x=\"533\" y=\"-141.8\" font-family=\"Helvetica,sans-Serif\" font-size=\"14.00\" fill=\"#000000\">value = [0.0, 0.667, 0.333]</text>\n<text text-anchor=\"start\" x=\"549\" y=\"-126.8\" font-family=\"Helvetica,sans-Serif\" font-size=\"14.00\" fill=\"#000000\">class = Iris&#45;versicolor</text>\n</g>\n<!-- 7&#45;&gt;9 -->\n<g id=\"edge9\" class=\"edge\">\n<title>7&#45;&gt;9</title>\n<path fill=\"none\" stroke=\"#000000\" d=\"M504.2699,-252.8642C517.088,-243.2147 530.6146,-233.0317 543.676,-223.199\"/>\n<polygon fill=\"#000000\" stroke=\"#000000\" points=\"545.8538,-225.9405 551.738,-217.1298 541.6437,-220.348 545.8538,-225.9405\"/>\n</g>\n<!-- 10 -->\n<g id=\"node11\" class=\"node\">\n<title>10</title>\n<path fill=\"#39e581\" stroke=\"#000000\" d=\"M596,-83C596,-83 468,-83 468,-83 462,-83 456,-77 456,-71 456,-71 456,-12 456,-12 456,-6 462,0 468,0 468,0 596,0 596,0 602,0 608,-6 608,-12 608,-12 608,-71 608,-71 608,-77 602,-83 596,-83\"/>\n<text text-anchor=\"start\" x=\"501\" y=\"-67.8\" font-family=\"Helvetica,sans-Serif\" font-size=\"14.00\" fill=\"#000000\">node #10</text>\n<text text-anchor=\"start\" x=\"502.5\" y=\"-52.8\" font-family=\"Helvetica,sans-Serif\" font-size=\"14.00\" fill=\"#000000\">gini = 0.0</text>\n<text text-anchor=\"start\" x=\"480\" y=\"-37.8\" font-family=\"Helvetica,sans-Serif\" font-size=\"14.00\" fill=\"#000000\">samples = 1.9%</text>\n<text text-anchor=\"start\" x=\"464.5\" y=\"-22.8\" font-family=\"Helvetica,sans-Serif\" font-size=\"14.00\" fill=\"#000000\">value = [0.0, 1.0, 0.0]</text>\n<text text-anchor=\"start\" x=\"464\" y=\"-7.8\" font-family=\"Helvetica,sans-Serif\" font-size=\"14.00\" fill=\"#000000\">class = Iris&#45;versicolor</text>\n</g>\n<!-- 9&#45;&gt;10 -->\n<g id=\"edge10\" class=\"edge\">\n<title>9&#45;&gt;10</title>\n<path fill=\"none\" stroke=\"#000000\" d=\"M583.8934,-118.7296C577.8881,-109.7924 571.6195,-100.4631 565.6002,-91.505\"/>\n<polygon fill=\"#000000\" stroke=\"#000000\" points=\"568.4047,-89.4032 559.9223,-83.055 562.5945,-93.3073 568.4047,-89.4032\"/>\n</g>\n<!-- 11 -->\n<g id=\"node12\" class=\"node\">\n<title>11</title>\n<path fill=\"#8139e5\" stroke=\"#000000\" d=\"M765.5,-83C765.5,-83 638.5,-83 638.5,-83 632.5,-83 626.5,-77 626.5,-71 626.5,-71 626.5,-12 626.5,-12 626.5,-6 632.5,0 638.5,0 638.5,0 765.5,0 765.5,0 771.5,0 777.5,-6 777.5,-12 777.5,-12 777.5,-71 777.5,-71 777.5,-77 771.5,-83 765.5,-83\"/>\n<text text-anchor=\"start\" x=\"671\" y=\"-67.8\" font-family=\"Helvetica,sans-Serif\" font-size=\"14.00\" fill=\"#000000\">node #11</text>\n<text text-anchor=\"start\" x=\"672.5\" y=\"-52.8\" font-family=\"Helvetica,sans-Serif\" font-size=\"14.00\" fill=\"#000000\">gini = 0.0</text>\n<text text-anchor=\"start\" x=\"650\" y=\"-37.8\" font-family=\"Helvetica,sans-Serif\" font-size=\"14.00\" fill=\"#000000\">samples = 1.0%</text>\n<text text-anchor=\"start\" x=\"634.5\" y=\"-22.8\" font-family=\"Helvetica,sans-Serif\" font-size=\"14.00\" fill=\"#000000\">value = [0.0, 0.0, 1.0]</text>\n<text text-anchor=\"start\" x=\"638.5\" y=\"-7.8\" font-family=\"Helvetica,sans-Serif\" font-size=\"14.00\" fill=\"#000000\">class = Iris&#45;virginica</text>\n</g>\n<!-- 9&#45;&gt;11 -->\n<g id=\"edge11\" class=\"edge\">\n<title>9&#45;&gt;11</title>\n<path fill=\"none\" stroke=\"#000000\" d=\"M650.1066,-118.7296C656.1119,-109.7924 662.3805,-100.4631 668.3998,-91.505\"/>\n<polygon fill=\"#000000\" stroke=\"#000000\" points=\"671.4055,-93.3073 674.0777,-83.055 665.5953,-89.4032 671.4055,-93.3073\"/>\n</g>\n</g>\n</svg>\n"
          },
          "metadata": {
            "tags": []
          },
          "execution_count": 14
        }
      ]
    },
    {
      "cell_type": "code",
      "metadata": {
        "colab": {
          "base_uri": "https://localhost:8080/",
          "height": 600,
          "referenced_widgets": [
            "69c22a1f53264f9cb84a743ea012e844",
            "497490bc5a6444a8add656c190a01ce3",
            "3eb2627ab4bf46cda27fa8fb21b7c88b",
            "a642eb11cac2464eb924a2023c384e85",
            "41b7d560479549e48db08588c890eb33",
            "3038c15d6a944b23ae80405c495b8fc3",
            "60eac86ef07e4037bf5477df7569fce4",
            "e67f7dae6f30477abd572206f8d0b481",
            "fe6354a3b17a4aadafa0ad0d0c874c08",
            "1702dac404f14a17b480c6f27130ae2c",
            "e5f9921db23c4a81910b5434e2b3becb",
            "df540af1a9f146ffbbcd8ab8426e563f",
            "8c7ffb790f2f485a829fce57b235f027",
            "c20622c45e37405c85404d88b44f6a9e",
            "fde6fed94d7f44c9bce314e397448500",
            "645e7bb482864490b5a73d236f79f2d7",
            "725b423e274b4c52908c4bbcc6c8fbad",
            "28b7b5eff10d41f2baea628708c9ad8b",
            "47b9749e68e046d99ed689566f67472f"
          ]
        },
        "id": "P3opX_OdJbeT",
        "outputId": "31357f5f-741b-4d7c-9679-3192a8f4bd32"
      },
      "source": [
        "# Renderizando a árvore de forma interativa:\n",
        "from ipywidgets import interactive\n",
        "from IPython.display import SVG,display\n",
        "from graphviz import Source\n",
        "\n",
        "# feature matrix\n",
        "X,y = data.drop('class',axis=1),data['class']\n",
        "\n",
        "# feature labels\n",
        "features_label = data.drop('class',axis=1).columns\n",
        "\n",
        "# class label\n",
        "class_label = ['Iris-setosa','Iris-versicolor', 'Iris-virginica']\n",
        "\n",
        "\n",
        "def plot_tree(crit, split, depth, min_samples_split, min_samples_leaf=0.2):\n",
        "    estimator = DecisionTreeClassifier(\n",
        "           random_state = 0 \n",
        "          ,criterion = crit\n",
        "          ,splitter = split\n",
        "          ,max_depth = depth\n",
        "          ,min_samples_split=min_samples_split\n",
        "          ,min_samples_leaf=min_samples_leaf\n",
        "    )\n",
        "    estimator.fit(X, y)\n",
        "    graph = Source(export_graphviz(estimator\n",
        "      , out_file=None\n",
        "      , feature_names=features_label\n",
        "      , class_names=class_label\n",
        "      , impurity=True\n",
        "      , filled = True))\n",
        "    display(SVG(graph.pipe(format='svg')))\n",
        "    return estimator\n",
        "\n",
        "inter=interactive(plot_tree \n",
        "   , crit = [\"gini\", \"entropy\"]\n",
        "   , split = [\"best\", \"random\"]\n",
        "   , depth=[1,2,3,4,5,10,20,30]\n",
        "   , min_samples_split=(1,5)\n",
        "   , min_samples_leaf=(1,5))\n",
        "\n",
        "display(inter)"
      ],
      "execution_count": 15,
      "outputs": [
        {
          "output_type": "display_data",
          "data": {
            "application/vnd.jupyter.widget-view+json": {
              "model_id": "69c22a1f53264f9cb84a743ea012e844",
              "version_minor": 0,
              "version_major": 2
            },
            "text/plain": [
              "interactive(children=(Dropdown(description='crit', options=('gini', 'entropy'), value='gini'), Dropdown(descri…"
            ]
          },
          "metadata": {
            "tags": []
          }
        }
      ]
    }
  ]
}