{
  "nbformat": 4,
  "nbformat_minor": 0,
  "metadata": {
    "colab": {
      "name": "desicionTreeIris.ipynb",
      "provenance": [],
      "collapsed_sections": [],
      "authorship_tag": "ABX9TyNmQ3oYRB98hsa7RS07hmdI",
      "include_colab_link": true
    },
    "kernelspec": {
      "name": "python3",
      "display_name": "Python 3"
    },
    "language_info": {
      "name": "python"
    }
  },
  "cells": [
    {
      "cell_type": "markdown",
      "metadata": {
        "id": "view-in-github",
        "colab_type": "text"
      },
      "source": [
        "<a href=\"https://colab.research.google.com/github/JosenildoVicente/decisionTree_iris/blob/main/desicionTreeIris.ipynb\" target=\"_parent\"><img src=\"https://colab.research.google.com/assets/colab-badge.svg\" alt=\"Open In Colab\"/></a>"
      ]
    },
    {
      "cell_type": "code",
      "metadata": {
        "id": "U4_T_Mc8-X5y"
      },
      "source": [
        "import pandas as pd\n",
        "from sklearn.tree import DecisionTreeClassifier,export_graphviz\n",
        "from sklearn.model_selection import train_test_split\n",
        "from sklearn import metrics\n",
        "import numpy as np"
      ],
      "execution_count": 1,
      "outputs": []
    },
    {
      "cell_type": "markdown",
      "metadata": {
        "id": "FoQ7Tgx29qF_"
      },
      "source": [
        "# Upload de dataset"
      ]
    },
    {
      "cell_type": "code",
      "metadata": {
        "id": "vdZ09xEX9mMk"
      },
      "source": [
        "data = pd.read_csv( \"https://raw.githubusercontent.com/JosenildoVicente/decisionTree_iris/main/iris.csv\", encoding=\"ISO-8859-1\" )"
      ],
      "execution_count": 2,
      "outputs": []
    },
    {
      "cell_type": "code",
      "metadata": {
        "colab": {
          "base_uri": "https://localhost:8080/",
          "height": 198
        },
        "id": "SpgNzUAh-Nun",
        "outputId": "1a8187f2-4b3f-4398-920b-1a6c556d52e5"
      },
      "source": [
        "data.head()"
      ],
      "execution_count": 3,
      "outputs": [
        {
          "output_type": "execute_result",
          "data": {
            "text/html": [
              "<div>\n",
              "<style scoped>\n",
              "    .dataframe tbody tr th:only-of-type {\n",
              "        vertical-align: middle;\n",
              "    }\n",
              "\n",
              "    .dataframe tbody tr th {\n",
              "        vertical-align: top;\n",
              "    }\n",
              "\n",
              "    .dataframe thead th {\n",
              "        text-align: right;\n",
              "    }\n",
              "</style>\n",
              "<table border=\"1\" class=\"dataframe\">\n",
              "  <thead>\n",
              "    <tr style=\"text-align: right;\">\n",
              "      <th></th>\n",
              "      <th>1</th>\n",
              "      <th>2</th>\n",
              "      <th>3</th>\n",
              "      <th>4</th>\n",
              "      <th>5</th>\n",
              "    </tr>\n",
              "  </thead>\n",
              "  <tbody>\n",
              "    <tr>\n",
              "      <th>0</th>\n",
              "      <td>5.1</td>\n",
              "      <td>3.5</td>\n",
              "      <td>1.4</td>\n",
              "      <td>0.2</td>\n",
              "      <td>Iris-setosa</td>\n",
              "    </tr>\n",
              "    <tr>\n",
              "      <th>1</th>\n",
              "      <td>4.9</td>\n",
              "      <td>3.0</td>\n",
              "      <td>1.4</td>\n",
              "      <td>0.2</td>\n",
              "      <td>Iris-setosa</td>\n",
              "    </tr>\n",
              "    <tr>\n",
              "      <th>2</th>\n",
              "      <td>4.7</td>\n",
              "      <td>3.2</td>\n",
              "      <td>1.3</td>\n",
              "      <td>0.2</td>\n",
              "      <td>Iris-setosa</td>\n",
              "    </tr>\n",
              "    <tr>\n",
              "      <th>3</th>\n",
              "      <td>4.6</td>\n",
              "      <td>3.1</td>\n",
              "      <td>1.5</td>\n",
              "      <td>0.2</td>\n",
              "      <td>Iris-setosa</td>\n",
              "    </tr>\n",
              "    <tr>\n",
              "      <th>4</th>\n",
              "      <td>5.0</td>\n",
              "      <td>3.6</td>\n",
              "      <td>1.4</td>\n",
              "      <td>0.2</td>\n",
              "      <td>Iris-setosa</td>\n",
              "    </tr>\n",
              "  </tbody>\n",
              "</table>\n",
              "</div>"
            ],
            "text/plain": [
              "     1    2    3    4            5\n",
              "0  5.1  3.5  1.4  0.2  Iris-setosa\n",
              "1  4.9  3.0  1.4  0.2  Iris-setosa\n",
              "2  4.7  3.2  1.3  0.2  Iris-setosa\n",
              "3  4.6  3.1  1.5  0.2  Iris-setosa\n",
              "4  5.0  3.6  1.4  0.2  Iris-setosa"
            ]
          },
          "metadata": {
            "tags": []
          },
          "execution_count": 3
        }
      ]
    },
    {
      "cell_type": "code",
      "metadata": {
        "colab": {
          "base_uri": "https://localhost:8080/"
        },
        "id": "q8ncEgL0Hzjw",
        "outputId": "cbd2c267-da4e-441c-9446-567db33c8f40"
      },
      "source": [
        "data.info()"
      ],
      "execution_count": 4,
      "outputs": [
        {
          "output_type": "stream",
          "text": [
            "<class 'pandas.core.frame.DataFrame'>\n",
            "RangeIndex: 150 entries, 0 to 149\n",
            "Data columns (total 5 columns):\n",
            " #   Column  Non-Null Count  Dtype  \n",
            "---  ------  --------------  -----  \n",
            " 0   1       150 non-null    float64\n",
            " 1   2       150 non-null    float64\n",
            " 2   3       150 non-null    float64\n",
            " 3   4       150 non-null    float64\n",
            " 4   5       150 non-null    object \n",
            "dtypes: float64(4), object(1)\n",
            "memory usage: 6.0+ KB\n"
          ],
          "name": "stdout"
        }
      ]
    },
    {
      "cell_type": "markdown",
      "metadata": {
        "id": "vb-Ob17zIEcZ"
      },
      "source": [
        "# Dividindo os dados em treino e teste:"
      ]
    },
    {
      "cell_type": "code",
      "metadata": {
        "id": "lVkr99MZIKEq"
      },
      "source": [
        "X_treino, X_teste, y_treino, y_teste = train_test_split(data.drop('5',axis=1),data['5'],test_size=0.3, stratify=data['5'])"
      ],
      "execution_count": 5,
      "outputs": []
    },
    {
      "cell_type": "code",
      "metadata": {
        "colab": {
          "base_uri": "https://localhost:8080/"
        },
        "id": "F8McRFXDIetR",
        "outputId": "856c401c-b6cc-45fe-9022-c8ae36b52191"
      },
      "source": [
        "X_treino.shape,X_teste.shape"
      ],
      "execution_count": 6,
      "outputs": [
        {
          "output_type": "execute_result",
          "data": {
            "text/plain": [
              "((105, 4), (45, 4))"
            ]
          },
          "metadata": {
            "tags": []
          },
          "execution_count": 6
        }
      ]
    },
    {
      "cell_type": "code",
      "metadata": {
        "colab": {
          "base_uri": "https://localhost:8080/"
        },
        "id": "FOOt3s95Imey",
        "outputId": "b6cf2ad4-31cf-470f-cdc0-5fcec79848de"
      },
      "source": [
        "y_treino.shape,y_teste.shape"
      ],
      "execution_count": 7,
      "outputs": [
        {
          "output_type": "execute_result",
          "data": {
            "text/plain": [
              "((105,), (45,))"
            ]
          },
          "metadata": {
            "tags": []
          },
          "execution_count": 7
        }
      ]
    },
    {
      "cell_type": "markdown",
      "metadata": {
        "id": "v-nofrXTJTi0"
      },
      "source": [
        "# Treinamento"
      ]
    },
    {
      "cell_type": "code",
      "metadata": {
        "id": "-8UC5GwyIq05"
      },
      "source": [
        "clf = DecisionTreeClassifier()"
      ],
      "execution_count": 8,
      "outputs": []
    },
    {
      "cell_type": "code",
      "metadata": {
        "id": "tKP8JwN0JVdK"
      },
      "source": [
        "clf = clf.fit(X_treino,y_treino)\n"
      ],
      "execution_count": 9,
      "outputs": []
    },
    {
      "cell_type": "code",
      "metadata": {
        "colab": {
          "base_uri": "https://localhost:8080/"
        },
        "id": "hr3WIK0zJaw6",
        "outputId": "7a7366b8-6f3d-4680-dca4-e5dc4332442f"
      },
      "source": [
        "clf.feature_importances_"
      ],
      "execution_count": 10,
      "outputs": [
        {
          "output_type": "execute_result",
          "data": {
            "text/plain": [
              "array([0.00482143, 0.02285714, 0.43762755, 0.53469388])"
            ]
          },
          "metadata": {
            "tags": []
          },
          "execution_count": 10
        }
      ]
    },
    {
      "cell_type": "code",
      "metadata": {
        "colab": {
          "base_uri": "https://localhost:8080/"
        },
        "id": "r_eBC67YJpG6",
        "outputId": "4206f64f-0383-4c42-f476-a658b8ad636a"
      },
      "source": [
        "for feature,importancia in zip(data.columns,clf.feature_importances_):\n",
        "    print(\"{}:{}\".format(feature, importancia))\n"
      ],
      "execution_count": 11,
      "outputs": [
        {
          "output_type": "stream",
          "text": [
            "1:0.004821428571428576\n",
            "2:0.02285714285714285\n",
            "3:0.4376275510204081\n",
            "4:0.5346938775510205\n"
          ],
          "name": "stdout"
        }
      ]
    },
    {
      "cell_type": "code",
      "metadata": {
        "colab": {
          "base_uri": "https://localhost:8080/"
        },
        "id": "B8DhBF2LJ3rR",
        "outputId": "9836bb3d-0ca2-4ebb-fc9f-3394a64aa485"
      },
      "source": [
        "resultado = clf.predict(X_teste)\n",
        "resultado"
      ],
      "execution_count": 12,
      "outputs": [
        {
          "output_type": "execute_result",
          "data": {
            "text/plain": [
              "array(['Iris-versicolor', 'Iris-virginica', 'Iris-setosa', 'Iris-setosa',\n",
              "       'Iris-versicolor', 'Iris-setosa', 'Iris-setosa', 'Iris-versicolor',\n",
              "       'Iris-virginica', 'Iris-versicolor', 'Iris-versicolor',\n",
              "       'Iris-versicolor', 'Iris-virginica', 'Iris-setosa',\n",
              "       'Iris-versicolor', 'Iris-virginica', 'Iris-setosa', 'Iris-setosa',\n",
              "       'Iris-virginica', 'Iris-setosa', 'Iris-versicolor',\n",
              "       'Iris-versicolor', 'Iris-setosa', 'Iris-versicolor',\n",
              "       'Iris-virginica', 'Iris-versicolor', 'Iris-virginica',\n",
              "       'Iris-virginica', 'Iris-setosa', 'Iris-setosa', 'Iris-virginica',\n",
              "       'Iris-versicolor', 'Iris-virginica', 'Iris-virginica',\n",
              "       'Iris-virginica', 'Iris-virginica', 'Iris-versicolor',\n",
              "       'Iris-setosa', 'Iris-versicolor', 'Iris-virginica', 'Iris-setosa',\n",
              "       'Iris-setosa', 'Iris-setosa', 'Iris-virginica', 'Iris-versicolor'],\n",
              "      dtype=object)"
            ]
          },
          "metadata": {
            "tags": []
          },
          "execution_count": 12
        }
      ]
    },
    {
      "cell_type": "code",
      "metadata": {
        "colab": {
          "base_uri": "https://localhost:8080/"
        },
        "id": "mQNk8jVpKDIq",
        "outputId": "af029880-a10f-4a25-e2b6-0af8c6f106a4"
      },
      "source": [
        "print(metrics.classification_report(y_teste,resultado))"
      ],
      "execution_count": 13,
      "outputs": [
        {
          "output_type": "stream",
          "text": [
            "                 precision    recall  f1-score   support\n",
            "\n",
            "    Iris-setosa       1.00      1.00      1.00        15\n",
            "Iris-versicolor       0.93      0.93      0.93        15\n",
            " Iris-virginica       0.93      0.93      0.93        15\n",
            "\n",
            "       accuracy                           0.96        45\n",
            "      macro avg       0.96      0.96      0.96        45\n",
            "   weighted avg       0.96      0.96      0.96        45\n",
            "\n"
          ],
          "name": "stdout"
        }
      ]
    },
    {
      "cell_type": "markdown",
      "metadata": {
        "id": "JxeszVn_KoAz"
      },
      "source": [
        "#Visualizando arvore"
      ]
    },
    {
      "cell_type": "code",
      "metadata": {
        "colab": {
          "base_uri": "https://localhost:8080/",
          "height": 1000
        },
        "id": "W3UrqP9lKooV",
        "outputId": "77ca6aee-d5a4-4dd5-d304-09690688af35"
      },
      "source": [
        "import pydot\n",
        "import graphviz\n",
        "\n",
        "dot_data = export_graphviz( \n",
        "         clf, \n",
        "         out_file=None,\n",
        "         feature_names=data.drop('5',axis=1).columns,\n",
        "         class_names=['Iris-setosa','Iris-versicolor', 'Iris-virginica'],  \n",
        "         filled=True, rounded=True,\n",
        "         proportion=True,\n",
        "         node_ids=True,\n",
        "         rotate=False,\n",
        "         label='all',\n",
        "         special_characters=True\n",
        "        )  \n",
        "graph = graphviz.Source(dot_data)  \n",
        "graph"
      ],
      "execution_count": 14,
      "outputs": [
        {
          "output_type": "execute_result",
          "data": {
            "text/plain": [
              "<graphviz.files.Source at 0x7f947dd21950>"
            ],
            "image/svg+xml": "<?xml version=\"1.0\" encoding=\"UTF-8\" standalone=\"no\"?>\n<!DOCTYPE svg PUBLIC \"-//W3C//DTD SVG 1.1//EN\"\n \"http://www.w3.org/Graphics/SVG/1.1/DTD/svg11.dtd\">\n<!-- Generated by graphviz version 2.40.1 (20161225.0304)\n -->\n<!-- Title: Tree Pages: 1 -->\n<svg width=\"691pt\" height=\"895pt\"\n viewBox=\"0.00 0.00 690.50 895.00\" xmlns=\"http://www.w3.org/2000/svg\" xmlns:xlink=\"http://www.w3.org/1999/xlink\">\n<g id=\"graph0\" class=\"graph\" transform=\"scale(1 1) rotate(0) translate(4 891)\">\n<title>Tree</title>\n<polygon fill=\"#ffffff\" stroke=\"transparent\" points=\"-4,4 -4,-891 686.5,-891 686.5,4 -4,4\"/>\n<!-- 0 -->\n<g id=\"node1\" class=\"node\">\n<title>0</title>\n<path fill=\"#ffffff\" stroke=\"#000000\" d=\"M249,-887C249,-887 73,-887 73,-887 67,-887 61,-881 61,-875 61,-875 61,-801 61,-801 61,-795 67,-789 73,-789 73,-789 249,-789 249,-789 255,-789 261,-795 261,-801 261,-801 261,-875 261,-875 261,-881 255,-887 249,-887\"/>\n<text text-anchor=\"start\" x=\"134\" y=\"-871.8\" font-family=\"Helvetica,sans-Serif\" font-size=\"14.00\" fill=\"#000000\">node #0</text>\n<text text-anchor=\"start\" x=\"139\" y=\"-856.8\" font-family=\"Helvetica,sans-Serif\" font-size=\"14.00\" fill=\"#000000\">4 ≤ 0.8</text>\n<text text-anchor=\"start\" x=\"123\" y=\"-841.8\" font-family=\"Helvetica,sans-Serif\" font-size=\"14.00\" fill=\"#000000\">gini = 0.667</text>\n<text text-anchor=\"start\" x=\"100.5\" y=\"-826.8\" font-family=\"Helvetica,sans-Serif\" font-size=\"14.00\" fill=\"#000000\">samples = 100.0%</text>\n<text text-anchor=\"start\" x=\"69\" y=\"-811.8\" font-family=\"Helvetica,sans-Serif\" font-size=\"14.00\" fill=\"#000000\">value = [0.333, 0.333, 0.333]</text>\n<text text-anchor=\"start\" x=\"102.5\" y=\"-796.8\" font-family=\"Helvetica,sans-Serif\" font-size=\"14.00\" fill=\"#000000\">class = Iris&#45;setosa</text>\n</g>\n<!-- 1 -->\n<g id=\"node2\" class=\"node\">\n<title>1</title>\n<path fill=\"#e58139\" stroke=\"#000000\" d=\"M139.5,-745.5C139.5,-745.5 12.5,-745.5 12.5,-745.5 6.5,-745.5 .5,-739.5 .5,-733.5 .5,-733.5 .5,-674.5 .5,-674.5 .5,-668.5 6.5,-662.5 12.5,-662.5 12.5,-662.5 139.5,-662.5 139.5,-662.5 145.5,-662.5 151.5,-668.5 151.5,-674.5 151.5,-674.5 151.5,-733.5 151.5,-733.5 151.5,-739.5 145.5,-745.5 139.5,-745.5\"/>\n<text text-anchor=\"start\" x=\"49\" y=\"-730.3\" font-family=\"Helvetica,sans-Serif\" font-size=\"14.00\" fill=\"#000000\">node #1</text>\n<text text-anchor=\"start\" x=\"46.5\" y=\"-715.3\" font-family=\"Helvetica,sans-Serif\" font-size=\"14.00\" fill=\"#000000\">gini = 0.0</text>\n<text text-anchor=\"start\" x=\"20\" y=\"-700.3\" font-family=\"Helvetica,sans-Serif\" font-size=\"14.00\" fill=\"#000000\">samples = 33.3%</text>\n<text text-anchor=\"start\" x=\"8.5\" y=\"-685.3\" font-family=\"Helvetica,sans-Serif\" font-size=\"14.00\" fill=\"#000000\">value = [1.0, 0.0, 0.0]</text>\n<text text-anchor=\"start\" x=\"17.5\" y=\"-670.3\" font-family=\"Helvetica,sans-Serif\" font-size=\"14.00\" fill=\"#000000\">class = Iris&#45;setosa</text>\n</g>\n<!-- 0&#45;&gt;1 -->\n<g id=\"edge1\" class=\"edge\">\n<title>0&#45;&gt;1</title>\n<path fill=\"none\" stroke=\"#000000\" d=\"M129.8318,-788.8642C122.658,-777.555 115.0196,-765.5133 107.8187,-754.1612\"/>\n<polygon fill=\"#000000\" stroke=\"#000000\" points=\"110.7244,-752.2077 102.4123,-745.6381 104.8133,-755.9573 110.7244,-752.2077\"/>\n<text text-anchor=\"middle\" x=\"96.9536\" y=\"-766.3349\" font-family=\"Helvetica,sans-Serif\" font-size=\"14.00\" fill=\"#000000\">True</text>\n</g>\n<!-- 2 -->\n<g id=\"node3\" class=\"node\">\n<title>2</title>\n<path fill=\"#ffffff\" stroke=\"#000000\" d=\"M310,-753C310,-753 182,-753 182,-753 176,-753 170,-747 170,-741 170,-741 170,-667 170,-667 170,-661 176,-655 182,-655 182,-655 310,-655 310,-655 316,-655 322,-661 322,-667 322,-667 322,-741 322,-741 322,-747 316,-753 310,-753\"/>\n<text text-anchor=\"start\" x=\"219\" y=\"-737.8\" font-family=\"Helvetica,sans-Serif\" font-size=\"14.00\" fill=\"#000000\">node #2</text>\n<text text-anchor=\"start\" x=\"220\" y=\"-722.8\" font-family=\"Helvetica,sans-Serif\" font-size=\"14.00\" fill=\"#000000\">3 ≤ 4.75</text>\n<text text-anchor=\"start\" x=\"216.5\" y=\"-707.8\" font-family=\"Helvetica,sans-Serif\" font-size=\"14.00\" fill=\"#000000\">gini = 0.5</text>\n<text text-anchor=\"start\" x=\"190\" y=\"-692.8\" font-family=\"Helvetica,sans-Serif\" font-size=\"14.00\" fill=\"#000000\">samples = 66.7%</text>\n<text text-anchor=\"start\" x=\"178.5\" y=\"-677.8\" font-family=\"Helvetica,sans-Serif\" font-size=\"14.00\" fill=\"#000000\">value = [0.0, 0.5, 0.5]</text>\n<text text-anchor=\"start\" x=\"178\" y=\"-662.8\" font-family=\"Helvetica,sans-Serif\" font-size=\"14.00\" fill=\"#000000\">class = Iris&#45;versicolor</text>\n</g>\n<!-- 0&#45;&gt;2 -->\n<g id=\"edge2\" class=\"edge\">\n<title>0&#45;&gt;2</title>\n<path fill=\"none\" stroke=\"#000000\" d=\"M192.1682,-788.8642C197.7695,-780.034 203.6541,-770.7571 209.3925,-761.7106\"/>\n<polygon fill=\"#000000\" stroke=\"#000000\" points=\"212.4345,-763.449 214.8356,-753.1298 206.5235,-759.6994 212.4345,-763.449\"/>\n<text text-anchor=\"middle\" x=\"220.2942\" y=\"-773.8266\" font-family=\"Helvetica,sans-Serif\" font-size=\"14.00\" fill=\"#000000\">False</text>\n</g>\n<!-- 3 -->\n<g id=\"node4\" class=\"node\">\n<title>3</title>\n<path fill=\"#39e581\" stroke=\"#000000\" d=\"M217,-611.5C217,-611.5 89,-611.5 89,-611.5 83,-611.5 77,-605.5 77,-599.5 77,-599.5 77,-540.5 77,-540.5 77,-534.5 83,-528.5 89,-528.5 89,-528.5 217,-528.5 217,-528.5 223,-528.5 229,-534.5 229,-540.5 229,-540.5 229,-599.5 229,-599.5 229,-605.5 223,-611.5 217,-611.5\"/>\n<text text-anchor=\"start\" x=\"126\" y=\"-596.3\" font-family=\"Helvetica,sans-Serif\" font-size=\"14.00\" fill=\"#000000\">node #3</text>\n<text text-anchor=\"start\" x=\"123.5\" y=\"-581.3\" font-family=\"Helvetica,sans-Serif\" font-size=\"14.00\" fill=\"#000000\">gini = 0.0</text>\n<text text-anchor=\"start\" x=\"97\" y=\"-566.3\" font-family=\"Helvetica,sans-Serif\" font-size=\"14.00\" fill=\"#000000\">samples = 29.5%</text>\n<text text-anchor=\"start\" x=\"85.5\" y=\"-551.3\" font-family=\"Helvetica,sans-Serif\" font-size=\"14.00\" fill=\"#000000\">value = [0.0, 1.0, 0.0]</text>\n<text text-anchor=\"start\" x=\"85\" y=\"-536.3\" font-family=\"Helvetica,sans-Serif\" font-size=\"14.00\" fill=\"#000000\">class = Iris&#45;versicolor</text>\n</g>\n<!-- 2&#45;&gt;3 -->\n<g id=\"edge3\" class=\"edge\">\n<title>2&#45;&gt;3</title>\n<path fill=\"none\" stroke=\"#000000\" d=\"M211.8983,-654.8642C204.0494,-643.555 195.692,-631.5133 187.8133,-620.1612\"/>\n<polygon fill=\"#000000\" stroke=\"#000000\" points=\"190.4752,-617.8579 181.8981,-611.6381 184.7245,-621.849 190.4752,-617.8579\"/>\n</g>\n<!-- 4 -->\n<g id=\"node5\" class=\"node\">\n<title>4</title>\n<path fill=\"#8f50e8\" stroke=\"#000000\" d=\"M419,-619C419,-619 259,-619 259,-619 253,-619 247,-613 247,-607 247,-607 247,-533 247,-533 247,-527 253,-521 259,-521 259,-521 419,-521 419,-521 425,-521 431,-527 431,-533 431,-533 431,-607 431,-607 431,-613 425,-619 419,-619\"/>\n<text text-anchor=\"start\" x=\"312\" y=\"-603.8\" font-family=\"Helvetica,sans-Serif\" font-size=\"14.00\" fill=\"#000000\">node #4</text>\n<text text-anchor=\"start\" x=\"313\" y=\"-588.8\" font-family=\"Helvetica,sans-Serif\" font-size=\"14.00\" fill=\"#000000\">3 ≤ 4.95</text>\n<text text-anchor=\"start\" x=\"301\" y=\"-573.8\" font-family=\"Helvetica,sans-Serif\" font-size=\"14.00\" fill=\"#000000\">gini = 0.184</text>\n<text text-anchor=\"start\" x=\"283\" y=\"-558.8\" font-family=\"Helvetica,sans-Serif\" font-size=\"14.00\" fill=\"#000000\">samples = 37.1%</text>\n<text text-anchor=\"start\" x=\"255\" y=\"-543.8\" font-family=\"Helvetica,sans-Serif\" font-size=\"14.00\" fill=\"#000000\">value = [0.0, 0.103, 0.897]</text>\n<text text-anchor=\"start\" x=\"275.5\" y=\"-528.8\" font-family=\"Helvetica,sans-Serif\" font-size=\"14.00\" fill=\"#000000\">class = Iris&#45;virginica</text>\n</g>\n<!-- 2&#45;&gt;4 -->\n<g id=\"edge4\" class=\"edge\">\n<title>2&#45;&gt;4</title>\n<path fill=\"none\" stroke=\"#000000\" d=\"M280.1017,-654.8642C286.2933,-645.9429 292.8014,-636.5657 299.1413,-627.4309\"/>\n<polygon fill=\"#000000\" stroke=\"#000000\" points=\"302.0761,-629.3407 304.9024,-619.1298 296.3254,-625.3495 302.0761,-629.3407\"/>\n</g>\n<!-- 5 -->\n<g id=\"node6\" class=\"node\">\n<title>5</title>\n<path fill=\"#e0cef8\" stroke=\"#000000\" d=\"M318,-485C318,-485 158,-485 158,-485 152,-485 146,-479 146,-473 146,-473 146,-399 146,-399 146,-393 152,-387 158,-387 158,-387 318,-387 318,-387 324,-387 330,-393 330,-399 330,-399 330,-473 330,-473 330,-479 324,-485 318,-485\"/>\n<text text-anchor=\"start\" x=\"211\" y=\"-469.8\" font-family=\"Helvetica,sans-Serif\" font-size=\"14.00\" fill=\"#000000\">node #5</text>\n<text text-anchor=\"start\" x=\"212\" y=\"-454.8\" font-family=\"Helvetica,sans-Serif\" font-size=\"14.00\" fill=\"#000000\">4 ≤ 1.65</text>\n<text text-anchor=\"start\" x=\"204.5\" y=\"-439.8\" font-family=\"Helvetica,sans-Serif\" font-size=\"14.00\" fill=\"#000000\">gini = 0.49</text>\n<text text-anchor=\"start\" x=\"186\" y=\"-424.8\" font-family=\"Helvetica,sans-Serif\" font-size=\"14.00\" fill=\"#000000\">samples = 6.7%</text>\n<text text-anchor=\"start\" x=\"154\" y=\"-409.8\" font-family=\"Helvetica,sans-Serif\" font-size=\"14.00\" fill=\"#000000\">value = [0.0, 0.429, 0.571]</text>\n<text text-anchor=\"start\" x=\"174.5\" y=\"-394.8\" font-family=\"Helvetica,sans-Serif\" font-size=\"14.00\" fill=\"#000000\">class = Iris&#45;virginica</text>\n</g>\n<!-- 4&#45;&gt;5 -->\n<g id=\"edge5\" class=\"edge\">\n<title>4&#45;&gt;5</title>\n<path fill=\"none\" stroke=\"#000000\" d=\"M301.9648,-520.8642C295.1719,-511.8519 288.0284,-502.3743 281.0767,-493.1513\"/>\n<polygon fill=\"#000000\" stroke=\"#000000\" points=\"283.8448,-491.0088 275.0307,-485.1298 278.2548,-495.2222 283.8448,-491.0088\"/>\n</g>\n<!-- 10 -->\n<g id=\"node11\" class=\"node\">\n<title>10</title>\n<path fill=\"#853fe6\" stroke=\"#000000\" d=\"M520,-485C520,-485 360,-485 360,-485 354,-485 348,-479 348,-473 348,-473 348,-399 348,-399 348,-393 354,-387 360,-387 360,-387 520,-387 520,-387 526,-387 532,-393 532,-399 532,-399 532,-473 532,-473 532,-479 526,-485 520,-485\"/>\n<text text-anchor=\"start\" x=\"409\" y=\"-469.8\" font-family=\"Helvetica,sans-Serif\" font-size=\"14.00\" fill=\"#000000\">node #10</text>\n<text text-anchor=\"start\" x=\"414\" y=\"-454.8\" font-family=\"Helvetica,sans-Serif\" font-size=\"14.00\" fill=\"#000000\">1 ≤ 6.05</text>\n<text text-anchor=\"start\" x=\"402\" y=\"-439.8\" font-family=\"Helvetica,sans-Serif\" font-size=\"14.00\" fill=\"#000000\">gini = 0.061</text>\n<text text-anchor=\"start\" x=\"384\" y=\"-424.8\" font-family=\"Helvetica,sans-Serif\" font-size=\"14.00\" fill=\"#000000\">samples = 30.5%</text>\n<text text-anchor=\"start\" x=\"356\" y=\"-409.8\" font-family=\"Helvetica,sans-Serif\" font-size=\"14.00\" fill=\"#000000\">value = [0.0, 0.031, 0.969]</text>\n<text text-anchor=\"start\" x=\"376.5\" y=\"-394.8\" font-family=\"Helvetica,sans-Serif\" font-size=\"14.00\" fill=\"#000000\">class = Iris&#45;virginica</text>\n</g>\n<!-- 4&#45;&gt;10 -->\n<g id=\"edge10\" class=\"edge\">\n<title>4&#45;&gt;10</title>\n<path fill=\"none\" stroke=\"#000000\" d=\"M376.0352,-520.8642C382.8281,-511.8519 389.9716,-502.3743 396.9233,-493.1513\"/>\n<polygon fill=\"#000000\" stroke=\"#000000\" points=\"399.7452,-495.2222 402.9693,-485.1298 394.1552,-491.0088 399.7452,-495.2222\"/>\n</g>\n<!-- 6 -->\n<g id=\"node7\" class=\"node\">\n<title>6</title>\n<path fill=\"#39e581\" stroke=\"#000000\" d=\"M140,-343.5C140,-343.5 12,-343.5 12,-343.5 6,-343.5 0,-337.5 0,-331.5 0,-331.5 0,-272.5 0,-272.5 0,-266.5 6,-260.5 12,-260.5 12,-260.5 140,-260.5 140,-260.5 146,-260.5 152,-266.5 152,-272.5 152,-272.5 152,-331.5 152,-331.5 152,-337.5 146,-343.5 140,-343.5\"/>\n<text text-anchor=\"start\" x=\"49\" y=\"-328.3\" font-family=\"Helvetica,sans-Serif\" font-size=\"14.00\" fill=\"#000000\">node #6</text>\n<text text-anchor=\"start\" x=\"46.5\" y=\"-313.3\" font-family=\"Helvetica,sans-Serif\" font-size=\"14.00\" fill=\"#000000\">gini = 0.0</text>\n<text text-anchor=\"start\" x=\"24\" y=\"-298.3\" font-family=\"Helvetica,sans-Serif\" font-size=\"14.00\" fill=\"#000000\">samples = 1.9%</text>\n<text text-anchor=\"start\" x=\"8.5\" y=\"-283.3\" font-family=\"Helvetica,sans-Serif\" font-size=\"14.00\" fill=\"#000000\">value = [0.0, 1.0, 0.0]</text>\n<text text-anchor=\"start\" x=\"8\" y=\"-268.3\" font-family=\"Helvetica,sans-Serif\" font-size=\"14.00\" fill=\"#000000\">class = Iris&#45;versicolor</text>\n</g>\n<!-- 5&#45;&gt;6 -->\n<g id=\"edge6\" class=\"edge\">\n<title>5&#45;&gt;6</title>\n<path fill=\"none\" stroke=\"#000000\" d=\"M178.5971,-386.8642C164.1205,-374.8898 148.651,-362.0941 134.2297,-350.1653\"/>\n<polygon fill=\"#000000\" stroke=\"#000000\" points=\"136.275,-347.315 126.3386,-343.6381 131.8134,-352.7089 136.275,-347.315\"/>\n</g>\n<!-- 7 -->\n<g id=\"node8\" class=\"node\">\n<title>7</title>\n<path fill=\"#a06aec\" stroke=\"#000000\" d=\"M309.5,-351C309.5,-351 182.5,-351 182.5,-351 176.5,-351 170.5,-345 170.5,-339 170.5,-339 170.5,-265 170.5,-265 170.5,-259 176.5,-253 182.5,-253 182.5,-253 309.5,-253 309.5,-253 315.5,-253 321.5,-259 321.5,-265 321.5,-265 321.5,-339 321.5,-339 321.5,-345 315.5,-351 309.5,-351\"/>\n<text text-anchor=\"start\" x=\"219\" y=\"-335.8\" font-family=\"Helvetica,sans-Serif\" font-size=\"14.00\" fill=\"#000000\">node #7</text>\n<text text-anchor=\"start\" x=\"224\" y=\"-320.8\" font-family=\"Helvetica,sans-Serif\" font-size=\"14.00\" fill=\"#000000\">2 ≤ 3.1</text>\n<text text-anchor=\"start\" x=\"212.5\" y=\"-305.8\" font-family=\"Helvetica,sans-Serif\" font-size=\"14.00\" fill=\"#000000\">gini = 0.32</text>\n<text text-anchor=\"start\" x=\"194\" y=\"-290.8\" font-family=\"Helvetica,sans-Serif\" font-size=\"14.00\" fill=\"#000000\">samples = 4.8%</text>\n<text text-anchor=\"start\" x=\"178.5\" y=\"-275.8\" font-family=\"Helvetica,sans-Serif\" font-size=\"14.00\" fill=\"#000000\">value = [0.0, 0.2, 0.8]</text>\n<text text-anchor=\"start\" x=\"182.5\" y=\"-260.8\" font-family=\"Helvetica,sans-Serif\" font-size=\"14.00\" fill=\"#000000\">class = Iris&#45;virginica</text>\n</g>\n<!-- 5&#45;&gt;7 -->\n<g id=\"edge7\" class=\"edge\">\n<title>5&#45;&gt;7</title>\n<path fill=\"none\" stroke=\"#000000\" d=\"M240.9335,-386.8642C241.4281,-378.5802 241.9461,-369.903 242.4542,-361.3918\"/>\n<polygon fill=\"#000000\" stroke=\"#000000\" points=\"245.9646,-361.3207 243.0669,-351.1298 238.9771,-360.9034 245.9646,-361.3207\"/>\n</g>\n<!-- 8 -->\n<g id=\"node9\" class=\"node\">\n<title>8</title>\n<path fill=\"#8139e5\" stroke=\"#000000\" d=\"M143.5,-209.5C143.5,-209.5 16.5,-209.5 16.5,-209.5 10.5,-209.5 4.5,-203.5 4.5,-197.5 4.5,-197.5 4.5,-138.5 4.5,-138.5 4.5,-132.5 10.5,-126.5 16.5,-126.5 16.5,-126.5 143.5,-126.5 143.5,-126.5 149.5,-126.5 155.5,-132.5 155.5,-138.5 155.5,-138.5 155.5,-197.5 155.5,-197.5 155.5,-203.5 149.5,-209.5 143.5,-209.5\"/>\n<text text-anchor=\"start\" x=\"53\" y=\"-194.3\" font-family=\"Helvetica,sans-Serif\" font-size=\"14.00\" fill=\"#000000\">node #8</text>\n<text text-anchor=\"start\" x=\"50.5\" y=\"-179.3\" font-family=\"Helvetica,sans-Serif\" font-size=\"14.00\" fill=\"#000000\">gini = 0.0</text>\n<text text-anchor=\"start\" x=\"28\" y=\"-164.3\" font-family=\"Helvetica,sans-Serif\" font-size=\"14.00\" fill=\"#000000\">samples = 3.8%</text>\n<text text-anchor=\"start\" x=\"12.5\" y=\"-149.3\" font-family=\"Helvetica,sans-Serif\" font-size=\"14.00\" fill=\"#000000\">value = [0.0, 0.0, 1.0]</text>\n<text text-anchor=\"start\" x=\"16.5\" y=\"-134.3\" font-family=\"Helvetica,sans-Serif\" font-size=\"14.00\" fill=\"#000000\">class = Iris&#45;virginica</text>\n</g>\n<!-- 7&#45;&gt;8 -->\n<g id=\"edge8\" class=\"edge\">\n<title>7&#45;&gt;8</title>\n<path fill=\"none\" stroke=\"#000000\" d=\"M185.1303,-252.8642C170.2963,-240.8898 154.4449,-228.0941 139.6675,-216.1653\"/>\n<polygon fill=\"#000000\" stroke=\"#000000\" points=\"141.5612,-213.1959 131.5816,-209.6381 137.1643,-218.6428 141.5612,-213.1959\"/>\n</g>\n<!-- 9 -->\n<g id=\"node10\" class=\"node\">\n<title>9</title>\n<path fill=\"#39e581\" stroke=\"#000000\" d=\"M314,-209.5C314,-209.5 186,-209.5 186,-209.5 180,-209.5 174,-203.5 174,-197.5 174,-197.5 174,-138.5 174,-138.5 174,-132.5 180,-126.5 186,-126.5 186,-126.5 314,-126.5 314,-126.5 320,-126.5 326,-132.5 326,-138.5 326,-138.5 326,-197.5 326,-197.5 326,-203.5 320,-209.5 314,-209.5\"/>\n<text text-anchor=\"start\" x=\"223\" y=\"-194.3\" font-family=\"Helvetica,sans-Serif\" font-size=\"14.00\" fill=\"#000000\">node #9</text>\n<text text-anchor=\"start\" x=\"220.5\" y=\"-179.3\" font-family=\"Helvetica,sans-Serif\" font-size=\"14.00\" fill=\"#000000\">gini = 0.0</text>\n<text text-anchor=\"start\" x=\"198\" y=\"-164.3\" font-family=\"Helvetica,sans-Serif\" font-size=\"14.00\" fill=\"#000000\">samples = 1.0%</text>\n<text text-anchor=\"start\" x=\"182.5\" y=\"-149.3\" font-family=\"Helvetica,sans-Serif\" font-size=\"14.00\" fill=\"#000000\">value = [0.0, 1.0, 0.0]</text>\n<text text-anchor=\"start\" x=\"182\" y=\"-134.3\" font-family=\"Helvetica,sans-Serif\" font-size=\"14.00\" fill=\"#000000\">class = Iris&#45;versicolor</text>\n</g>\n<!-- 7&#45;&gt;9 -->\n<g id=\"edge9\" class=\"edge\">\n<title>7&#45;&gt;9</title>\n<path fill=\"none\" stroke=\"#000000\" d=\"M247.4667,-252.8642C247.7878,-242.1094 248.1286,-230.6921 248.4527,-219.8354\"/>\n<polygon fill=\"#000000\" stroke=\"#000000\" points=\"251.957,-219.7381 248.7571,-209.6381 244.9602,-219.5292 251.957,-219.7381\"/>\n</g>\n<!-- 11 -->\n<g id=\"node12\" class=\"node\">\n<title>11</title>\n<path fill=\"#a06aec\" stroke=\"#000000\" d=\"M501.5,-351C501.5,-351 374.5,-351 374.5,-351 368.5,-351 362.5,-345 362.5,-339 362.5,-339 362.5,-265 362.5,-265 362.5,-259 368.5,-253 374.5,-253 374.5,-253 501.5,-253 501.5,-253 507.5,-253 513.5,-259 513.5,-265 513.5,-265 513.5,-339 513.5,-339 513.5,-345 507.5,-351 501.5,-351\"/>\n<text text-anchor=\"start\" x=\"407\" y=\"-335.8\" font-family=\"Helvetica,sans-Serif\" font-size=\"14.00\" fill=\"#000000\">node #11</text>\n<text text-anchor=\"start\" x=\"416\" y=\"-320.8\" font-family=\"Helvetica,sans-Serif\" font-size=\"14.00\" fill=\"#000000\">4 ≤ 1.7</text>\n<text text-anchor=\"start\" x=\"404.5\" y=\"-305.8\" font-family=\"Helvetica,sans-Serif\" font-size=\"14.00\" fill=\"#000000\">gini = 0.32</text>\n<text text-anchor=\"start\" x=\"386\" y=\"-290.8\" font-family=\"Helvetica,sans-Serif\" font-size=\"14.00\" fill=\"#000000\">samples = 4.8%</text>\n<text text-anchor=\"start\" x=\"370.5\" y=\"-275.8\" font-family=\"Helvetica,sans-Serif\" font-size=\"14.00\" fill=\"#000000\">value = [0.0, 0.2, 0.8]</text>\n<text text-anchor=\"start\" x=\"374.5\" y=\"-260.8\" font-family=\"Helvetica,sans-Serif\" font-size=\"14.00\" fill=\"#000000\">class = Iris&#45;virginica</text>\n</g>\n<!-- 10&#45;&gt;11 -->\n<g id=\"edge11\" class=\"edge\">\n<title>10&#45;&gt;11</title>\n<path fill=\"none\" stroke=\"#000000\" d=\"M439.2666,-386.8642C439.143,-378.5802 439.0135,-369.903 438.8864,-361.3918\"/>\n<polygon fill=\"#000000\" stroke=\"#000000\" points=\"442.3822,-361.0764 438.7333,-351.1298 435.383,-361.181 442.3822,-361.0764\"/>\n</g>\n<!-- 16 -->\n<g id=\"node17\" class=\"node\">\n<title>16</title>\n<path fill=\"#8139e5\" stroke=\"#000000\" d=\"M670.5,-343.5C670.5,-343.5 543.5,-343.5 543.5,-343.5 537.5,-343.5 531.5,-337.5 531.5,-331.5 531.5,-331.5 531.5,-272.5 531.5,-272.5 531.5,-266.5 537.5,-260.5 543.5,-260.5 543.5,-260.5 670.5,-260.5 670.5,-260.5 676.5,-260.5 682.5,-266.5 682.5,-272.5 682.5,-272.5 682.5,-331.5 682.5,-331.5 682.5,-337.5 676.5,-343.5 670.5,-343.5\"/>\n<text text-anchor=\"start\" x=\"576\" y=\"-328.3\" font-family=\"Helvetica,sans-Serif\" font-size=\"14.00\" fill=\"#000000\">node #16</text>\n<text text-anchor=\"start\" x=\"577.5\" y=\"-313.3\" font-family=\"Helvetica,sans-Serif\" font-size=\"14.00\" fill=\"#000000\">gini = 0.0</text>\n<text text-anchor=\"start\" x=\"551\" y=\"-298.3\" font-family=\"Helvetica,sans-Serif\" font-size=\"14.00\" fill=\"#000000\">samples = 25.7%</text>\n<text text-anchor=\"start\" x=\"539.5\" y=\"-283.3\" font-family=\"Helvetica,sans-Serif\" font-size=\"14.00\" fill=\"#000000\">value = [0.0, 0.0, 1.0]</text>\n<text text-anchor=\"start\" x=\"543.5\" y=\"-268.3\" font-family=\"Helvetica,sans-Serif\" font-size=\"14.00\" fill=\"#000000\">class = Iris&#45;virginica</text>\n</g>\n<!-- 10&#45;&gt;16 -->\n<g id=\"edge16\" class=\"edge\">\n<title>10&#45;&gt;16</title>\n<path fill=\"none\" stroke=\"#000000\" d=\"M501.2364,-386.8642C516.1597,-374.8898 532.1067,-362.0941 546.9731,-350.1653\"/>\n<polygon fill=\"#000000\" stroke=\"#000000\" points=\"549.4985,-352.6264 555.1077,-343.6381 545.1177,-347.1667 549.4985,-352.6264\"/>\n</g>\n<!-- 12 -->\n<g id=\"node13\" class=\"node\">\n<title>12</title>\n<path fill=\"#ffffff\" stroke=\"#000000\" d=\"M500,-217C500,-217 372,-217 372,-217 366,-217 360,-211 360,-205 360,-205 360,-131 360,-131 360,-125 366,-119 372,-119 372,-119 500,-119 500,-119 506,-119 512,-125 512,-131 512,-131 512,-205 512,-205 512,-211 506,-217 500,-217\"/>\n<text text-anchor=\"start\" x=\"405\" y=\"-201.8\" font-family=\"Helvetica,sans-Serif\" font-size=\"14.00\" fill=\"#000000\">node #12</text>\n<text text-anchor=\"start\" x=\"410\" y=\"-186.8\" font-family=\"Helvetica,sans-Serif\" font-size=\"14.00\" fill=\"#000000\">3 ≤ 5.05</text>\n<text text-anchor=\"start\" x=\"406.5\" y=\"-171.8\" font-family=\"Helvetica,sans-Serif\" font-size=\"14.00\" fill=\"#000000\">gini = 0.5</text>\n<text text-anchor=\"start\" x=\"384\" y=\"-156.8\" font-family=\"Helvetica,sans-Serif\" font-size=\"14.00\" fill=\"#000000\">samples = 1.9%</text>\n<text text-anchor=\"start\" x=\"368.5\" y=\"-141.8\" font-family=\"Helvetica,sans-Serif\" font-size=\"14.00\" fill=\"#000000\">value = [0.0, 0.5, 0.5]</text>\n<text text-anchor=\"start\" x=\"368\" y=\"-126.8\" font-family=\"Helvetica,sans-Serif\" font-size=\"14.00\" fill=\"#000000\">class = Iris&#45;versicolor</text>\n</g>\n<!-- 11&#45;&gt;12 -->\n<g id=\"edge12\" class=\"edge\">\n<title>11&#45;&gt;12</title>\n<path fill=\"none\" stroke=\"#000000\" d=\"M437.2666,-252.8642C437.143,-244.5802 437.0135,-235.903 436.8864,-227.3918\"/>\n<polygon fill=\"#000000\" stroke=\"#000000\" points=\"440.3822,-227.0764 436.7333,-217.1298 433.383,-227.181 440.3822,-227.0764\"/>\n</g>\n<!-- 15 -->\n<g id=\"node16\" class=\"node\">\n<title>15</title>\n<path fill=\"#8139e5\" stroke=\"#000000\" d=\"M669.5,-209.5C669.5,-209.5 542.5,-209.5 542.5,-209.5 536.5,-209.5 530.5,-203.5 530.5,-197.5 530.5,-197.5 530.5,-138.5 530.5,-138.5 530.5,-132.5 536.5,-126.5 542.5,-126.5 542.5,-126.5 669.5,-126.5 669.5,-126.5 675.5,-126.5 681.5,-132.5 681.5,-138.5 681.5,-138.5 681.5,-197.5 681.5,-197.5 681.5,-203.5 675.5,-209.5 669.5,-209.5\"/>\n<text text-anchor=\"start\" x=\"575\" y=\"-194.3\" font-family=\"Helvetica,sans-Serif\" font-size=\"14.00\" fill=\"#000000\">node #15</text>\n<text text-anchor=\"start\" x=\"576.5\" y=\"-179.3\" font-family=\"Helvetica,sans-Serif\" font-size=\"14.00\" fill=\"#000000\">gini = 0.0</text>\n<text text-anchor=\"start\" x=\"554\" y=\"-164.3\" font-family=\"Helvetica,sans-Serif\" font-size=\"14.00\" fill=\"#000000\">samples = 2.9%</text>\n<text text-anchor=\"start\" x=\"538.5\" y=\"-149.3\" font-family=\"Helvetica,sans-Serif\" font-size=\"14.00\" fill=\"#000000\">value = [0.0, 0.0, 1.0]</text>\n<text text-anchor=\"start\" x=\"542.5\" y=\"-134.3\" font-family=\"Helvetica,sans-Serif\" font-size=\"14.00\" fill=\"#000000\">class = Iris&#45;virginica</text>\n</g>\n<!-- 11&#45;&gt;15 -->\n<g id=\"edge15\" class=\"edge\">\n<title>11&#45;&gt;15</title>\n<path fill=\"none\" stroke=\"#000000\" d=\"M499.603,-252.8642C514.6158,-240.8898 530.6582,-228.0941 545.6136,-216.1653\"/>\n<polygon fill=\"#000000\" stroke=\"#000000\" points=\"548.1617,-218.61 553.797,-209.6381 543.7967,-213.1375 548.1617,-218.61\"/>\n</g>\n<!-- 13 -->\n<g id=\"node14\" class=\"node\">\n<title>13</title>\n<path fill=\"#8139e5\" stroke=\"#000000\" d=\"M414.5,-83C414.5,-83 287.5,-83 287.5,-83 281.5,-83 275.5,-77 275.5,-71 275.5,-71 275.5,-12 275.5,-12 275.5,-6 281.5,0 287.5,0 287.5,0 414.5,0 414.5,0 420.5,0 426.5,-6 426.5,-12 426.5,-12 426.5,-71 426.5,-71 426.5,-77 420.5,-83 414.5,-83\"/>\n<text text-anchor=\"start\" x=\"320\" y=\"-67.8\" font-family=\"Helvetica,sans-Serif\" font-size=\"14.00\" fill=\"#000000\">node #13</text>\n<text text-anchor=\"start\" x=\"321.5\" y=\"-52.8\" font-family=\"Helvetica,sans-Serif\" font-size=\"14.00\" fill=\"#000000\">gini = 0.0</text>\n<text text-anchor=\"start\" x=\"299\" y=\"-37.8\" font-family=\"Helvetica,sans-Serif\" font-size=\"14.00\" fill=\"#000000\">samples = 1.0%</text>\n<text text-anchor=\"start\" x=\"283.5\" y=\"-22.8\" font-family=\"Helvetica,sans-Serif\" font-size=\"14.00\" fill=\"#000000\">value = [0.0, 0.0, 1.0]</text>\n<text text-anchor=\"start\" x=\"287.5\" y=\"-7.8\" font-family=\"Helvetica,sans-Serif\" font-size=\"14.00\" fill=\"#000000\">class = Iris&#45;virginica</text>\n</g>\n<!-- 12&#45;&gt;13 -->\n<g id=\"edge13\" class=\"edge\">\n<title>12&#45;&gt;13</title>\n<path fill=\"none\" stroke=\"#000000\" d=\"M402.8934,-118.7296C396.8881,-109.7924 390.6195,-100.4631 384.6002,-91.505\"/>\n<polygon fill=\"#000000\" stroke=\"#000000\" points=\"387.4047,-89.4032 378.9223,-83.055 381.5945,-93.3073 387.4047,-89.4032\"/>\n</g>\n<!-- 14 -->\n<g id=\"node15\" class=\"node\">\n<title>14</title>\n<path fill=\"#39e581\" stroke=\"#000000\" d=\"M585,-83C585,-83 457,-83 457,-83 451,-83 445,-77 445,-71 445,-71 445,-12 445,-12 445,-6 451,0 457,0 457,0 585,0 585,0 591,0 597,-6 597,-12 597,-12 597,-71 597,-71 597,-77 591,-83 585,-83\"/>\n<text text-anchor=\"start\" x=\"490\" y=\"-67.8\" font-family=\"Helvetica,sans-Serif\" font-size=\"14.00\" fill=\"#000000\">node #14</text>\n<text text-anchor=\"start\" x=\"491.5\" y=\"-52.8\" font-family=\"Helvetica,sans-Serif\" font-size=\"14.00\" fill=\"#000000\">gini = 0.0</text>\n<text text-anchor=\"start\" x=\"469\" y=\"-37.8\" font-family=\"Helvetica,sans-Serif\" font-size=\"14.00\" fill=\"#000000\">samples = 1.0%</text>\n<text text-anchor=\"start\" x=\"453.5\" y=\"-22.8\" font-family=\"Helvetica,sans-Serif\" font-size=\"14.00\" fill=\"#000000\">value = [0.0, 1.0, 0.0]</text>\n<text text-anchor=\"start\" x=\"453\" y=\"-7.8\" font-family=\"Helvetica,sans-Serif\" font-size=\"14.00\" fill=\"#000000\">class = Iris&#45;versicolor</text>\n</g>\n<!-- 12&#45;&gt;14 -->\n<g id=\"edge14\" class=\"edge\">\n<title>12&#45;&gt;14</title>\n<path fill=\"none\" stroke=\"#000000\" d=\"M469.1066,-118.7296C475.1119,-109.7924 481.3805,-100.4631 487.3998,-91.505\"/>\n<polygon fill=\"#000000\" stroke=\"#000000\" points=\"490.4055,-93.3073 493.0777,-83.055 484.5953,-89.4032 490.4055,-93.3073\"/>\n</g>\n</g>\n</svg>\n"
          },
          "metadata": {
            "tags": []
          },
          "execution_count": 14
        }
      ]
    }
  ]
}