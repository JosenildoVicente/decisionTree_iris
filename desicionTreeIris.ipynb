{
  "nbformat": 4,
  "nbformat_minor": 0,
  "metadata": {
    "colab": {
      "name": "desicionTreeIris.ipynb",
      "provenance": [],
      "collapsed_sections": [],
      "authorship_tag": "ABX9TyOPUr9mhVFMHmoSVgw2DvSl",
      "include_colab_link": true
    },
    "kernelspec": {
      "name": "python3",
      "display_name": "Python 3"
    },
    "language_info": {
      "name": "python"
    }
  },
  "cells": [
    {
      "cell_type": "markdown",
      "metadata": {
        "id": "view-in-github",
        "colab_type": "text"
      },
      "source": [
        "<a href=\"https://colab.research.google.com/github/JosenildoVicente/decisionTree_iris/blob/main/desicionTreeIris.ipynb\" target=\"_parent\"><img src=\"https://colab.research.google.com/assets/colab-badge.svg\" alt=\"Open In Colab\"/></a>"
      ]
    },
    {
      "cell_type": "code",
      "metadata": {
        "id": "U4_T_Mc8-X5y"
      },
      "source": [
        "import pandas as pd\n",
        "from sklearn.tree import DecisionTreeClassifier,export_graphviz\n",
        "from sklearn.model_selection import train_test_split\n",
        "from sklearn import metrics\n",
        "import numpy as np"
      ],
      "execution_count": 217,
      "outputs": []
    },
    {
      "cell_type": "markdown",
      "metadata": {
        "id": "FoQ7Tgx29qF_"
      },
      "source": [
        "# Upload de dataset"
      ]
    },
    {
      "cell_type": "code",
      "metadata": {
        "id": "vdZ09xEX9mMk"
      },
      "source": [
        "data = pd.read_csv( \"https://raw.githubusercontent.com/JosenildoVicente/decisionTree_iris/main/iris.csv\", encoding=\"ISO-8859-1\" )"
      ],
      "execution_count": 218,
      "outputs": []
    },
    {
      "cell_type": "code",
      "metadata": {
        "id": "SpgNzUAh-Nun"
      },
      "source": [
        "# data.head()"
      ],
      "execution_count": 219,
      "outputs": []
    },
    {
      "cell_type": "code",
      "metadata": {
        "colab": {
          "base_uri": "https://localhost:8080/"
        },
        "id": "q8ncEgL0Hzjw",
        "outputId": "71d32b48-958c-4507-f188-50491af1133e"
      },
      "source": [
        "data.info()"
      ],
      "execution_count": 220,
      "outputs": [
        {
          "output_type": "stream",
          "text": [
            "<class 'pandas.core.frame.DataFrame'>\n",
            "RangeIndex: 150 entries, 0 to 149\n",
            "Data columns (total 5 columns):\n",
            " #   Column  Non-Null Count  Dtype  \n",
            "---  ------  --------------  -----  \n",
            " 0   1       150 non-null    float64\n",
            " 1   2       150 non-null    float64\n",
            " 2   3       150 non-null    float64\n",
            " 3   4       150 non-null    float64\n",
            " 4   5       150 non-null    object \n",
            "dtypes: float64(4), object(1)\n",
            "memory usage: 6.0+ KB\n"
          ],
          "name": "stdout"
        }
      ]
    },
    {
      "cell_type": "markdown",
      "metadata": {
        "id": "vb-Ob17zIEcZ"
      },
      "source": [
        "# Dividindo os dados em treino e teste:"
      ]
    },
    {
      "cell_type": "code",
      "metadata": {
        "id": "lVkr99MZIKEq"
      },
      "source": [
        "X_treino, X_teste, y_treino, y_teste = train_test_split(data.drop('5',axis=1),data['5'],test_size=0.3, stratify=data['5'])"
      ],
      "execution_count": 221,
      "outputs": []
    },
    {
      "cell_type": "code",
      "metadata": {
        "colab": {
          "base_uri": "https://localhost:8080/"
        },
        "id": "F8McRFXDIetR",
        "outputId": "0cda362a-436a-4703-95e0-18eac49c5cc0"
      },
      "source": [
        "X_treino.shape,X_teste.shape"
      ],
      "execution_count": 222,
      "outputs": [
        {
          "output_type": "execute_result",
          "data": {
            "text/plain": [
              "((105, 4), (45, 4))"
            ]
          },
          "metadata": {
            "tags": []
          },
          "execution_count": 222
        }
      ]
    },
    {
      "cell_type": "code",
      "metadata": {
        "colab": {
          "base_uri": "https://localhost:8080/"
        },
        "id": "FOOt3s95Imey",
        "outputId": "adbb8ad4-5799-4265-ee1f-a8c68b3b08c3"
      },
      "source": [
        "y_treino.shape,y_teste.shape"
      ],
      "execution_count": 223,
      "outputs": [
        {
          "output_type": "execute_result",
          "data": {
            "text/plain": [
              "((105,), (45,))"
            ]
          },
          "metadata": {
            "tags": []
          },
          "execution_count": 223
        }
      ]
    },
    {
      "cell_type": "code",
      "metadata": {
        "id": "1NLj_KCOLydR"
      },
      "source": [
        "# y_treino"
      ],
      "execution_count": 225,
      "outputs": []
    },
    {
      "cell_type": "markdown",
      "metadata": {
        "id": "v-nofrXTJTi0"
      },
      "source": [
        "# Treinamento"
      ]
    },
    {
      "cell_type": "code",
      "metadata": {
        "id": "-8UC5GwyIq05"
      },
      "source": [
        "clf = DecisionTreeClassifier()"
      ],
      "execution_count": 226,
      "outputs": []
    },
    {
      "cell_type": "code",
      "metadata": {
        "id": "tKP8JwN0JVdK"
      },
      "source": [
        "clf = clf.fit(X_treino,y_treino)\n"
      ],
      "execution_count": 227,
      "outputs": []
    },
    {
      "cell_type": "code",
      "metadata": {
        "colab": {
          "base_uri": "https://localhost:8080/"
        },
        "id": "hr3WIK0zJaw6",
        "outputId": "199161fb-4258-426a-b998-acbebe4d52fb"
      },
      "source": [
        "clf.feature_importances_"
      ],
      "execution_count": 228,
      "outputs": [
        {
          "output_type": "execute_result",
          "data": {
            "text/plain": [
              "array([0.        , 0.01428571, 0.42727139, 0.5584429 ])"
            ]
          },
          "metadata": {
            "tags": []
          },
          "execution_count": 228
        }
      ]
    },
    {
      "cell_type": "code",
      "metadata": {
        "colab": {
          "base_uri": "https://localhost:8080/"
        },
        "id": "r_eBC67YJpG6",
        "outputId": "fa0e6696-6d99-40d6-a79f-bda2fa28ceb1"
      },
      "source": [
        "for feature,importancia in zip(data.columns,clf.feature_importances_):\n",
        "    print(\"{}:{}\".format(feature, importancia))\n"
      ],
      "execution_count": 229,
      "outputs": [
        {
          "output_type": "stream",
          "text": [
            "1:0.0\n",
            "2:0.014285714285714284\n",
            "3:0.4272713901285329\n",
            "4:0.5584428955857528\n"
          ],
          "name": "stdout"
        }
      ]
    },
    {
      "cell_type": "code",
      "metadata": {
        "id": "B8DhBF2LJ3rR"
      },
      "source": [
        "resultado = clf.predict(X_teste)\n",
        "# resultado"
      ],
      "execution_count": 230,
      "outputs": []
    },
    {
      "cell_type": "code",
      "metadata": {
        "id": "mQNk8jVpKDIq"
      },
      "source": [
        "# print(metrics.classification_report(y_teste,resultado))\n"
      ],
      "execution_count": 231,
      "outputs": []
    },
    {
      "cell_type": "markdown",
      "metadata": {
        "id": "JxeszVn_KoAz"
      },
      "source": [
        "#Visualizando resultados"
      ]
    },
    {
      "cell_type": "code",
      "metadata": {
        "colab": {
          "base_uri": "https://localhost:8080/",
          "height": 1000
        },
        "id": "W3UrqP9lKooV",
        "outputId": "5beceb2a-7408-40ec-c2d3-c35124145081"
      },
      "source": [
        "import pydot\n",
        "import graphviz\n",
        "\n",
        "dot_data = export_graphviz( \n",
        "         clf, \n",
        "         out_file=None,\n",
        "         feature_names=data.drop('5',axis=1).columns,\n",
        "         class_names=['Iris-setosa','Iris-versicolor', 'Iris-virginica'],  \n",
        "         filled=True, rounded=True,\n",
        "         proportion=True,\n",
        "         node_ids=True,\n",
        "         rotate=False,\n",
        "         label='all',\n",
        "         special_characters=True\n",
        "        )  \n",
        "graph = graphviz.Source(dot_data)  \n",
        "graph"
      ],
      "execution_count": 233,
      "outputs": [
        {
          "output_type": "execute_result",
          "data": {
            "text/plain": [
              "<graphviz.files.Source at 0x7f0547186950>"
            ],
            "image/svg+xml": "<?xml version=\"1.0\" encoding=\"UTF-8\" standalone=\"no\"?>\n<!DOCTYPE svg PUBLIC \"-//W3C//DTD SVG 1.1//EN\"\n \"http://www.w3.org/Graphics/SVG/1.1/DTD/svg11.dtd\">\n<!-- Generated by graphviz version 2.40.1 (20161225.0304)\n -->\n<!-- Title: Tree Pages: 1 -->\n<svg width=\"704pt\" height=\"895pt\"\n viewBox=\"0.00 0.00 703.50 895.00\" xmlns=\"http://www.w3.org/2000/svg\" xmlns:xlink=\"http://www.w3.org/1999/xlink\">\n<g id=\"graph0\" class=\"graph\" transform=\"scale(1 1) rotate(0) translate(4 891)\">\n<title>Tree</title>\n<polygon fill=\"#ffffff\" stroke=\"transparent\" points=\"-4,4 -4,-891 699.5,-891 699.5,4 -4,4\"/>\n<!-- 0 -->\n<g id=\"node1\" class=\"node\">\n<title>0</title>\n<path fill=\"#ffffff\" stroke=\"#000000\" d=\"M342,-887C342,-887 166,-887 166,-887 160,-887 154,-881 154,-875 154,-875 154,-801 154,-801 154,-795 160,-789 166,-789 166,-789 342,-789 342,-789 348,-789 354,-795 354,-801 354,-801 354,-875 354,-875 354,-881 348,-887 342,-887\"/>\n<text text-anchor=\"start\" x=\"227\" y=\"-871.8\" font-family=\"Helvetica,sans-Serif\" font-size=\"14.00\" fill=\"#000000\">node #0</text>\n<text text-anchor=\"start\" x=\"232\" y=\"-856.8\" font-family=\"Helvetica,sans-Serif\" font-size=\"14.00\" fill=\"#000000\">4 ≤ 0.8</text>\n<text text-anchor=\"start\" x=\"216\" y=\"-841.8\" font-family=\"Helvetica,sans-Serif\" font-size=\"14.00\" fill=\"#000000\">gini = 0.667</text>\n<text text-anchor=\"start\" x=\"193.5\" y=\"-826.8\" font-family=\"Helvetica,sans-Serif\" font-size=\"14.00\" fill=\"#000000\">samples = 100.0%</text>\n<text text-anchor=\"start\" x=\"162\" y=\"-811.8\" font-family=\"Helvetica,sans-Serif\" font-size=\"14.00\" fill=\"#000000\">value = [0.333, 0.333, 0.333]</text>\n<text text-anchor=\"start\" x=\"195.5\" y=\"-796.8\" font-family=\"Helvetica,sans-Serif\" font-size=\"14.00\" fill=\"#000000\">class = Iris&#45;setosa</text>\n</g>\n<!-- 1 -->\n<g id=\"node2\" class=\"node\">\n<title>1</title>\n<path fill=\"#e58139\" stroke=\"#000000\" d=\"M232.5,-745.5C232.5,-745.5 105.5,-745.5 105.5,-745.5 99.5,-745.5 93.5,-739.5 93.5,-733.5 93.5,-733.5 93.5,-674.5 93.5,-674.5 93.5,-668.5 99.5,-662.5 105.5,-662.5 105.5,-662.5 232.5,-662.5 232.5,-662.5 238.5,-662.5 244.5,-668.5 244.5,-674.5 244.5,-674.5 244.5,-733.5 244.5,-733.5 244.5,-739.5 238.5,-745.5 232.5,-745.5\"/>\n<text text-anchor=\"start\" x=\"142\" y=\"-730.3\" font-family=\"Helvetica,sans-Serif\" font-size=\"14.00\" fill=\"#000000\">node #1</text>\n<text text-anchor=\"start\" x=\"139.5\" y=\"-715.3\" font-family=\"Helvetica,sans-Serif\" font-size=\"14.00\" fill=\"#000000\">gini = 0.0</text>\n<text text-anchor=\"start\" x=\"113\" y=\"-700.3\" font-family=\"Helvetica,sans-Serif\" font-size=\"14.00\" fill=\"#000000\">samples = 33.3%</text>\n<text text-anchor=\"start\" x=\"101.5\" y=\"-685.3\" font-family=\"Helvetica,sans-Serif\" font-size=\"14.00\" fill=\"#000000\">value = [1.0, 0.0, 0.0]</text>\n<text text-anchor=\"start\" x=\"110.5\" y=\"-670.3\" font-family=\"Helvetica,sans-Serif\" font-size=\"14.00\" fill=\"#000000\">class = Iris&#45;setosa</text>\n</g>\n<!-- 0&#45;&gt;1 -->\n<g id=\"edge1\" class=\"edge\">\n<title>0&#45;&gt;1</title>\n<path fill=\"none\" stroke=\"#000000\" d=\"M222.8318,-788.8642C215.658,-777.555 208.0196,-765.5133 200.8187,-754.1612\"/>\n<polygon fill=\"#000000\" stroke=\"#000000\" points=\"203.7244,-752.2077 195.4123,-745.6381 197.8133,-755.9573 203.7244,-752.2077\"/>\n<text text-anchor=\"middle\" x=\"189.9536\" y=\"-766.3349\" font-family=\"Helvetica,sans-Serif\" font-size=\"14.00\" fill=\"#000000\">True</text>\n</g>\n<!-- 2 -->\n<g id=\"node3\" class=\"node\">\n<title>2</title>\n<path fill=\"#ffffff\" stroke=\"#000000\" d=\"M403,-753C403,-753 275,-753 275,-753 269,-753 263,-747 263,-741 263,-741 263,-667 263,-667 263,-661 269,-655 275,-655 275,-655 403,-655 403,-655 409,-655 415,-661 415,-667 415,-667 415,-741 415,-741 415,-747 409,-753 403,-753\"/>\n<text text-anchor=\"start\" x=\"312\" y=\"-737.8\" font-family=\"Helvetica,sans-Serif\" font-size=\"14.00\" fill=\"#000000\">node #2</text>\n<text text-anchor=\"start\" x=\"313\" y=\"-722.8\" font-family=\"Helvetica,sans-Serif\" font-size=\"14.00\" fill=\"#000000\">3 ≤ 4.85</text>\n<text text-anchor=\"start\" x=\"309.5\" y=\"-707.8\" font-family=\"Helvetica,sans-Serif\" font-size=\"14.00\" fill=\"#000000\">gini = 0.5</text>\n<text text-anchor=\"start\" x=\"283\" y=\"-692.8\" font-family=\"Helvetica,sans-Serif\" font-size=\"14.00\" fill=\"#000000\">samples = 66.7%</text>\n<text text-anchor=\"start\" x=\"271.5\" y=\"-677.8\" font-family=\"Helvetica,sans-Serif\" font-size=\"14.00\" fill=\"#000000\">value = [0.0, 0.5, 0.5]</text>\n<text text-anchor=\"start\" x=\"271\" y=\"-662.8\" font-family=\"Helvetica,sans-Serif\" font-size=\"14.00\" fill=\"#000000\">class = Iris&#45;versicolor</text>\n</g>\n<!-- 0&#45;&gt;2 -->\n<g id=\"edge2\" class=\"edge\">\n<title>0&#45;&gt;2</title>\n<path fill=\"none\" stroke=\"#000000\" d=\"M285.1682,-788.8642C290.7695,-780.034 296.6541,-770.7571 302.3925,-761.7106\"/>\n<polygon fill=\"#000000\" stroke=\"#000000\" points=\"305.4345,-763.449 307.8356,-753.1298 299.5235,-759.6994 305.4345,-763.449\"/>\n<text text-anchor=\"middle\" x=\"313.2942\" y=\"-773.8266\" font-family=\"Helvetica,sans-Serif\" font-size=\"14.00\" fill=\"#000000\">False</text>\n</g>\n<!-- 3 -->\n<g id=\"node4\" class=\"node\">\n<title>3</title>\n<path fill=\"#3fe685\" stroke=\"#000000\" d=\"M313.5,-619C313.5,-619 170.5,-619 170.5,-619 164.5,-619 158.5,-613 158.5,-607 158.5,-607 158.5,-533 158.5,-533 158.5,-527 164.5,-521 170.5,-521 170.5,-521 313.5,-521 313.5,-521 319.5,-521 325.5,-527 325.5,-533 325.5,-533 325.5,-607 325.5,-607 325.5,-613 319.5,-619 313.5,-619\"/>\n<text text-anchor=\"start\" x=\"215\" y=\"-603.8\" font-family=\"Helvetica,sans-Serif\" font-size=\"14.00\" fill=\"#000000\">node #3</text>\n<text text-anchor=\"start\" x=\"216\" y=\"-588.8\" font-family=\"Helvetica,sans-Serif\" font-size=\"14.00\" fill=\"#000000\">4 ≤ 1.65</text>\n<text text-anchor=\"start\" x=\"204\" y=\"-573.8\" font-family=\"Helvetica,sans-Serif\" font-size=\"14.00\" fill=\"#000000\">gini = 0.059</text>\n<text text-anchor=\"start\" x=\"186\" y=\"-558.8\" font-family=\"Helvetica,sans-Serif\" font-size=\"14.00\" fill=\"#000000\">samples = 31.4%</text>\n<text text-anchor=\"start\" x=\"166.5\" y=\"-543.8\" font-family=\"Helvetica,sans-Serif\" font-size=\"14.00\" fill=\"#000000\">value = [0.0, 0.97, 0.03]</text>\n<text text-anchor=\"start\" x=\"174\" y=\"-528.8\" font-family=\"Helvetica,sans-Serif\" font-size=\"14.00\" fill=\"#000000\">class = Iris&#45;versicolor</text>\n</g>\n<!-- 2&#45;&gt;3 -->\n<g id=\"edge3\" class=\"edge\">\n<title>2&#45;&gt;3</title>\n<path fill=\"none\" stroke=\"#000000\" d=\"M303.4316,-654.8642C296.9736,-645.9429 290.1856,-636.5657 283.5731,-627.4309\"/>\n<polygon fill=\"#000000\" stroke=\"#000000\" points=\"286.263,-625.1779 277.5641,-619.1298 280.5927,-629.2826 286.263,-625.1779\"/>\n</g>\n<!-- 8 -->\n<g id=\"node9\" class=\"node\">\n<title>8</title>\n<path fill=\"#8c4ae7\" stroke=\"#000000\" d=\"M516,-619C516,-619 356,-619 356,-619 350,-619 344,-613 344,-607 344,-607 344,-533 344,-533 344,-527 350,-521 356,-521 356,-521 516,-521 516,-521 522,-521 528,-527 528,-533 528,-533 528,-607 528,-607 528,-613 522,-619 516,-619\"/>\n<text text-anchor=\"start\" x=\"409\" y=\"-603.8\" font-family=\"Helvetica,sans-Serif\" font-size=\"14.00\" fill=\"#000000\">node #8</text>\n<text text-anchor=\"start\" x=\"410\" y=\"-588.8\" font-family=\"Helvetica,sans-Serif\" font-size=\"14.00\" fill=\"#000000\">4 ≤ 1.75</text>\n<text text-anchor=\"start\" x=\"398\" y=\"-573.8\" font-family=\"Helvetica,sans-Serif\" font-size=\"14.00\" fill=\"#000000\">gini = 0.149</text>\n<text text-anchor=\"start\" x=\"380\" y=\"-558.8\" font-family=\"Helvetica,sans-Serif\" font-size=\"14.00\" fill=\"#000000\">samples = 35.2%</text>\n<text text-anchor=\"start\" x=\"352\" y=\"-543.8\" font-family=\"Helvetica,sans-Serif\" font-size=\"14.00\" fill=\"#000000\">value = [0.0, 0.081, 0.919]</text>\n<text text-anchor=\"start\" x=\"372.5\" y=\"-528.8\" font-family=\"Helvetica,sans-Serif\" font-size=\"14.00\" fill=\"#000000\">class = Iris&#45;virginica</text>\n</g>\n<!-- 2&#45;&gt;8 -->\n<g id=\"edge8\" class=\"edge\">\n<title>2&#45;&gt;8</title>\n<path fill=\"none\" stroke=\"#000000\" d=\"M374.5684,-654.8642C381.0264,-645.9429 387.8144,-636.5657 394.4269,-627.4309\"/>\n<polygon fill=\"#000000\" stroke=\"#000000\" points=\"397.4073,-629.2826 400.4359,-619.1298 391.737,-625.1779 397.4073,-629.2826\"/>\n</g>\n<!-- 4 -->\n<g id=\"node5\" class=\"node\">\n<title>4</title>\n<path fill=\"#39e581\" stroke=\"#000000\" d=\"M140,-477.5C140,-477.5 12,-477.5 12,-477.5 6,-477.5 0,-471.5 0,-465.5 0,-465.5 0,-406.5 0,-406.5 0,-400.5 6,-394.5 12,-394.5 12,-394.5 140,-394.5 140,-394.5 146,-394.5 152,-400.5 152,-406.5 152,-406.5 152,-465.5 152,-465.5 152,-471.5 146,-477.5 140,-477.5\"/>\n<text text-anchor=\"start\" x=\"49\" y=\"-462.3\" font-family=\"Helvetica,sans-Serif\" font-size=\"14.00\" fill=\"#000000\">node #4</text>\n<text text-anchor=\"start\" x=\"46.5\" y=\"-447.3\" font-family=\"Helvetica,sans-Serif\" font-size=\"14.00\" fill=\"#000000\">gini = 0.0</text>\n<text text-anchor=\"start\" x=\"20\" y=\"-432.3\" font-family=\"Helvetica,sans-Serif\" font-size=\"14.00\" fill=\"#000000\">samples = 29.5%</text>\n<text text-anchor=\"start\" x=\"8.5\" y=\"-417.3\" font-family=\"Helvetica,sans-Serif\" font-size=\"14.00\" fill=\"#000000\">value = [0.0, 1.0, 0.0]</text>\n<text text-anchor=\"start\" x=\"8\" y=\"-402.3\" font-family=\"Helvetica,sans-Serif\" font-size=\"14.00\" fill=\"#000000\">class = Iris&#45;versicolor</text>\n</g>\n<!-- 3&#45;&gt;4 -->\n<g id=\"edge4\" class=\"edge\">\n<title>3&#45;&gt;4</title>\n<path fill=\"none\" stroke=\"#000000\" d=\"M181.1303,-520.8642C166.2963,-508.8898 150.4449,-496.0941 135.6675,-484.1653\"/>\n<polygon fill=\"#000000\" stroke=\"#000000\" points=\"137.5612,-481.1959 127.5816,-477.6381 133.1643,-486.6428 137.5612,-481.1959\"/>\n</g>\n<!-- 5 -->\n<g id=\"node6\" class=\"node\">\n<title>5</title>\n<path fill=\"#ffffff\" stroke=\"#000000\" d=\"M310,-485C310,-485 182,-485 182,-485 176,-485 170,-479 170,-473 170,-473 170,-399 170,-399 170,-393 176,-387 182,-387 182,-387 310,-387 310,-387 316,-387 322,-393 322,-399 322,-399 322,-473 322,-473 322,-479 316,-485 310,-485\"/>\n<text text-anchor=\"start\" x=\"219\" y=\"-469.8\" font-family=\"Helvetica,sans-Serif\" font-size=\"14.00\" fill=\"#000000\">node #5</text>\n<text text-anchor=\"start\" x=\"220\" y=\"-454.8\" font-family=\"Helvetica,sans-Serif\" font-size=\"14.00\" fill=\"#000000\">2 ≤ 2.85</text>\n<text text-anchor=\"start\" x=\"216.5\" y=\"-439.8\" font-family=\"Helvetica,sans-Serif\" font-size=\"14.00\" fill=\"#000000\">gini = 0.5</text>\n<text text-anchor=\"start\" x=\"194\" y=\"-424.8\" font-family=\"Helvetica,sans-Serif\" font-size=\"14.00\" fill=\"#000000\">samples = 1.9%</text>\n<text text-anchor=\"start\" x=\"178.5\" y=\"-409.8\" font-family=\"Helvetica,sans-Serif\" font-size=\"14.00\" fill=\"#000000\">value = [0.0, 0.5, 0.5]</text>\n<text text-anchor=\"start\" x=\"178\" y=\"-394.8\" font-family=\"Helvetica,sans-Serif\" font-size=\"14.00\" fill=\"#000000\">class = Iris&#45;versicolor</text>\n</g>\n<!-- 3&#45;&gt;5 -->\n<g id=\"edge5\" class=\"edge\">\n<title>3&#45;&gt;5</title>\n<path fill=\"none\" stroke=\"#000000\" d=\"M243.4667,-520.8642C243.714,-512.5802 243.973,-503.903 244.2271,-495.3918\"/>\n<polygon fill=\"#000000\" stroke=\"#000000\" points=\"247.7334,-495.2298 244.5334,-485.1298 240.7365,-495.0209 247.7334,-495.2298\"/>\n</g>\n<!-- 6 -->\n<g id=\"node7\" class=\"node\">\n<title>6</title>\n<path fill=\"#8139e5\" stroke=\"#000000\" d=\"M143.5,-343.5C143.5,-343.5 16.5,-343.5 16.5,-343.5 10.5,-343.5 4.5,-337.5 4.5,-331.5 4.5,-331.5 4.5,-272.5 4.5,-272.5 4.5,-266.5 10.5,-260.5 16.5,-260.5 16.5,-260.5 143.5,-260.5 143.5,-260.5 149.5,-260.5 155.5,-266.5 155.5,-272.5 155.5,-272.5 155.5,-331.5 155.5,-331.5 155.5,-337.5 149.5,-343.5 143.5,-343.5\"/>\n<text text-anchor=\"start\" x=\"53\" y=\"-328.3\" font-family=\"Helvetica,sans-Serif\" font-size=\"14.00\" fill=\"#000000\">node #6</text>\n<text text-anchor=\"start\" x=\"50.5\" y=\"-313.3\" font-family=\"Helvetica,sans-Serif\" font-size=\"14.00\" fill=\"#000000\">gini = 0.0</text>\n<text text-anchor=\"start\" x=\"28\" y=\"-298.3\" font-family=\"Helvetica,sans-Serif\" font-size=\"14.00\" fill=\"#000000\">samples = 1.0%</text>\n<text text-anchor=\"start\" x=\"12.5\" y=\"-283.3\" font-family=\"Helvetica,sans-Serif\" font-size=\"14.00\" fill=\"#000000\">value = [0.0, 0.0, 1.0]</text>\n<text text-anchor=\"start\" x=\"16.5\" y=\"-268.3\" font-family=\"Helvetica,sans-Serif\" font-size=\"14.00\" fill=\"#000000\">class = Iris&#45;virginica</text>\n</g>\n<!-- 5&#45;&gt;6 -->\n<g id=\"edge6\" class=\"edge\">\n<title>5&#45;&gt;6</title>\n<path fill=\"none\" stroke=\"#000000\" d=\"M185.1303,-386.8642C170.2963,-374.8898 154.4449,-362.0941 139.6675,-350.1653\"/>\n<polygon fill=\"#000000\" stroke=\"#000000\" points=\"141.5612,-347.1959 131.5816,-343.6381 137.1643,-352.6428 141.5612,-347.1959\"/>\n</g>\n<!-- 7 -->\n<g id=\"node8\" class=\"node\">\n<title>7</title>\n<path fill=\"#39e581\" stroke=\"#000000\" d=\"M314,-343.5C314,-343.5 186,-343.5 186,-343.5 180,-343.5 174,-337.5 174,-331.5 174,-331.5 174,-272.5 174,-272.5 174,-266.5 180,-260.5 186,-260.5 186,-260.5 314,-260.5 314,-260.5 320,-260.5 326,-266.5 326,-272.5 326,-272.5 326,-331.5 326,-331.5 326,-337.5 320,-343.5 314,-343.5\"/>\n<text text-anchor=\"start\" x=\"223\" y=\"-328.3\" font-family=\"Helvetica,sans-Serif\" font-size=\"14.00\" fill=\"#000000\">node #7</text>\n<text text-anchor=\"start\" x=\"220.5\" y=\"-313.3\" font-family=\"Helvetica,sans-Serif\" font-size=\"14.00\" fill=\"#000000\">gini = 0.0</text>\n<text text-anchor=\"start\" x=\"198\" y=\"-298.3\" font-family=\"Helvetica,sans-Serif\" font-size=\"14.00\" fill=\"#000000\">samples = 1.0%</text>\n<text text-anchor=\"start\" x=\"182.5\" y=\"-283.3\" font-family=\"Helvetica,sans-Serif\" font-size=\"14.00\" fill=\"#000000\">value = [0.0, 1.0, 0.0]</text>\n<text text-anchor=\"start\" x=\"182\" y=\"-268.3\" font-family=\"Helvetica,sans-Serif\" font-size=\"14.00\" fill=\"#000000\">class = Iris&#45;versicolor</text>\n</g>\n<!-- 5&#45;&gt;7 -->\n<g id=\"edge7\" class=\"edge\">\n<title>5&#45;&gt;7</title>\n<path fill=\"none\" stroke=\"#000000\" d=\"M247.4667,-386.8642C247.7878,-376.1094 248.1286,-364.6921 248.4527,-353.8354\"/>\n<polygon fill=\"#000000\" stroke=\"#000000\" points=\"251.957,-353.7381 248.7571,-343.6381 244.9602,-353.5292 251.957,-353.7381\"/>\n</g>\n<!-- 9 -->\n<g id=\"node10\" class=\"node\">\n<title>9</title>\n<path fill=\"#e0cef8\" stroke=\"#000000\" d=\"M514,-485C514,-485 354,-485 354,-485 348,-485 342,-479 342,-473 342,-473 342,-399 342,-399 342,-393 348,-387 354,-387 354,-387 514,-387 514,-387 520,-387 526,-393 526,-399 526,-399 526,-473 526,-473 526,-479 520,-485 514,-485\"/>\n<text text-anchor=\"start\" x=\"407\" y=\"-469.8\" font-family=\"Helvetica,sans-Serif\" font-size=\"14.00\" fill=\"#000000\">node #9</text>\n<text text-anchor=\"start\" x=\"408\" y=\"-454.8\" font-family=\"Helvetica,sans-Serif\" font-size=\"14.00\" fill=\"#000000\">3 ≤ 5.35</text>\n<text text-anchor=\"start\" x=\"400.5\" y=\"-439.8\" font-family=\"Helvetica,sans-Serif\" font-size=\"14.00\" fill=\"#000000\">gini = 0.49</text>\n<text text-anchor=\"start\" x=\"382\" y=\"-424.8\" font-family=\"Helvetica,sans-Serif\" font-size=\"14.00\" fill=\"#000000\">samples = 6.7%</text>\n<text text-anchor=\"start\" x=\"350\" y=\"-409.8\" font-family=\"Helvetica,sans-Serif\" font-size=\"14.00\" fill=\"#000000\">value = [0.0, 0.429, 0.571]</text>\n<text text-anchor=\"start\" x=\"370.5\" y=\"-394.8\" font-family=\"Helvetica,sans-Serif\" font-size=\"14.00\" fill=\"#000000\">class = Iris&#45;virginica</text>\n</g>\n<!-- 8&#45;&gt;9 -->\n<g id=\"edge9\" class=\"edge\">\n<title>8&#45;&gt;9</title>\n<path fill=\"none\" stroke=\"#000000\" d=\"M435.2666,-520.8642C435.143,-512.5802 435.0135,-503.903 434.8864,-495.3918\"/>\n<polygon fill=\"#000000\" stroke=\"#000000\" points=\"438.3822,-495.0764 434.7333,-485.1298 431.383,-495.181 438.3822,-495.0764\"/>\n</g>\n<!-- 16 -->\n<g id=\"node17\" class=\"node\">\n<title>16</title>\n<path fill=\"#8139e5\" stroke=\"#000000\" d=\"M683.5,-477.5C683.5,-477.5 556.5,-477.5 556.5,-477.5 550.5,-477.5 544.5,-471.5 544.5,-465.5 544.5,-465.5 544.5,-406.5 544.5,-406.5 544.5,-400.5 550.5,-394.5 556.5,-394.5 556.5,-394.5 683.5,-394.5 683.5,-394.5 689.5,-394.5 695.5,-400.5 695.5,-406.5 695.5,-406.5 695.5,-465.5 695.5,-465.5 695.5,-471.5 689.5,-477.5 683.5,-477.5\"/>\n<text text-anchor=\"start\" x=\"589\" y=\"-462.3\" font-family=\"Helvetica,sans-Serif\" font-size=\"14.00\" fill=\"#000000\">node #16</text>\n<text text-anchor=\"start\" x=\"590.5\" y=\"-447.3\" font-family=\"Helvetica,sans-Serif\" font-size=\"14.00\" fill=\"#000000\">gini = 0.0</text>\n<text text-anchor=\"start\" x=\"564\" y=\"-432.3\" font-family=\"Helvetica,sans-Serif\" font-size=\"14.00\" fill=\"#000000\">samples = 28.6%</text>\n<text text-anchor=\"start\" x=\"552.5\" y=\"-417.3\" font-family=\"Helvetica,sans-Serif\" font-size=\"14.00\" fill=\"#000000\">value = [0.0, 0.0, 1.0]</text>\n<text text-anchor=\"start\" x=\"556.5\" y=\"-402.3\" font-family=\"Helvetica,sans-Serif\" font-size=\"14.00\" fill=\"#000000\">class = Iris&#45;virginica</text>\n</g>\n<!-- 8&#45;&gt;16 -->\n<g id=\"edge16\" class=\"edge\">\n<title>8&#45;&gt;16</title>\n<path fill=\"none\" stroke=\"#000000\" d=\"M503.47,-520.8642C520.0648,-508.7789 537.8083,-495.857 554.3173,-483.8342\"/>\n<polygon fill=\"#000000\" stroke=\"#000000\" points=\"556.8021,-486.3544 562.8252,-477.6381 552.6812,-480.6959 556.8021,-486.3544\"/>\n</g>\n<!-- 10 -->\n<g id=\"node11\" class=\"node\">\n<title>10</title>\n<path fill=\"#bdf6d5\" stroke=\"#000000\" d=\"M496,-351C496,-351 368,-351 368,-351 362,-351 356,-345 356,-339 356,-339 356,-265 356,-265 356,-259 362,-253 368,-253 368,-253 496,-253 496,-253 502,-253 508,-259 508,-265 508,-265 508,-339 508,-339 508,-345 502,-351 496,-351\"/>\n<text text-anchor=\"start\" x=\"401\" y=\"-335.8\" font-family=\"Helvetica,sans-Serif\" font-size=\"14.00\" fill=\"#000000\">node #10</text>\n<text text-anchor=\"start\" x=\"406\" y=\"-320.8\" font-family=\"Helvetica,sans-Serif\" font-size=\"14.00\" fill=\"#000000\">4 ≤ 1.55</text>\n<text text-anchor=\"start\" x=\"398.5\" y=\"-305.8\" font-family=\"Helvetica,sans-Serif\" font-size=\"14.00\" fill=\"#000000\">gini = 0.48</text>\n<text text-anchor=\"start\" x=\"380\" y=\"-290.8\" font-family=\"Helvetica,sans-Serif\" font-size=\"14.00\" fill=\"#000000\">samples = 4.8%</text>\n<text text-anchor=\"start\" x=\"364.5\" y=\"-275.8\" font-family=\"Helvetica,sans-Serif\" font-size=\"14.00\" fill=\"#000000\">value = [0.0, 0.6, 0.4]</text>\n<text text-anchor=\"start\" x=\"364\" y=\"-260.8\" font-family=\"Helvetica,sans-Serif\" font-size=\"14.00\" fill=\"#000000\">class = Iris&#45;versicolor</text>\n</g>\n<!-- 9&#45;&gt;10 -->\n<g id=\"edge10\" class=\"edge\">\n<title>9&#45;&gt;10</title>\n<path fill=\"none\" stroke=\"#000000\" d=\"M433.2666,-386.8642C433.143,-378.5802 433.0135,-369.903 432.8864,-361.3918\"/>\n<polygon fill=\"#000000\" stroke=\"#000000\" points=\"436.3822,-361.0764 432.7333,-351.1298 429.383,-361.181 436.3822,-361.0764\"/>\n</g>\n<!-- 15 -->\n<g id=\"node16\" class=\"node\">\n<title>15</title>\n<path fill=\"#8139e5\" stroke=\"#000000\" d=\"M665.5,-343.5C665.5,-343.5 538.5,-343.5 538.5,-343.5 532.5,-343.5 526.5,-337.5 526.5,-331.5 526.5,-331.5 526.5,-272.5 526.5,-272.5 526.5,-266.5 532.5,-260.5 538.5,-260.5 538.5,-260.5 665.5,-260.5 665.5,-260.5 671.5,-260.5 677.5,-266.5 677.5,-272.5 677.5,-272.5 677.5,-331.5 677.5,-331.5 677.5,-337.5 671.5,-343.5 665.5,-343.5\"/>\n<text text-anchor=\"start\" x=\"571\" y=\"-328.3\" font-family=\"Helvetica,sans-Serif\" font-size=\"14.00\" fill=\"#000000\">node #15</text>\n<text text-anchor=\"start\" x=\"572.5\" y=\"-313.3\" font-family=\"Helvetica,sans-Serif\" font-size=\"14.00\" fill=\"#000000\">gini = 0.0</text>\n<text text-anchor=\"start\" x=\"550\" y=\"-298.3\" font-family=\"Helvetica,sans-Serif\" font-size=\"14.00\" fill=\"#000000\">samples = 1.9%</text>\n<text text-anchor=\"start\" x=\"534.5\" y=\"-283.3\" font-family=\"Helvetica,sans-Serif\" font-size=\"14.00\" fill=\"#000000\">value = [0.0, 0.0, 1.0]</text>\n<text text-anchor=\"start\" x=\"538.5\" y=\"-268.3\" font-family=\"Helvetica,sans-Serif\" font-size=\"14.00\" fill=\"#000000\">class = Iris&#45;virginica</text>\n</g>\n<!-- 9&#45;&gt;15 -->\n<g id=\"edge15\" class=\"edge\">\n<title>9&#45;&gt;15</title>\n<path fill=\"none\" stroke=\"#000000\" d=\"M495.603,-386.8642C510.6158,-374.8898 526.6582,-362.0941 541.6136,-350.1653\"/>\n<polygon fill=\"#000000\" stroke=\"#000000\" points=\"544.1617,-352.61 549.797,-343.6381 539.7967,-347.1375 544.1617,-352.61\"/>\n</g>\n<!-- 11 -->\n<g id=\"node12\" class=\"node\">\n<title>11</title>\n<path fill=\"#c09cf2\" stroke=\"#000000\" d=\"M419,-217C419,-217 259,-217 259,-217 253,-217 247,-211 247,-205 247,-205 247,-131 247,-131 247,-125 253,-119 259,-119 259,-119 419,-119 419,-119 425,-119 431,-125 431,-131 431,-131 431,-205 431,-205 431,-211 425,-217 419,-217\"/>\n<text text-anchor=\"start\" x=\"308\" y=\"-201.8\" font-family=\"Helvetica,sans-Serif\" font-size=\"14.00\" fill=\"#000000\">node #11</text>\n<text text-anchor=\"start\" x=\"313\" y=\"-186.8\" font-family=\"Helvetica,sans-Serif\" font-size=\"14.00\" fill=\"#000000\">3 ≤ 4.95</text>\n<text text-anchor=\"start\" x=\"301\" y=\"-171.8\" font-family=\"Helvetica,sans-Serif\" font-size=\"14.00\" fill=\"#000000\">gini = 0.444</text>\n<text text-anchor=\"start\" x=\"287\" y=\"-156.8\" font-family=\"Helvetica,sans-Serif\" font-size=\"14.00\" fill=\"#000000\">samples = 2.9%</text>\n<text text-anchor=\"start\" x=\"255\" y=\"-141.8\" font-family=\"Helvetica,sans-Serif\" font-size=\"14.00\" fill=\"#000000\">value = [0.0, 0.333, 0.667]</text>\n<text text-anchor=\"start\" x=\"275.5\" y=\"-126.8\" font-family=\"Helvetica,sans-Serif\" font-size=\"14.00\" fill=\"#000000\">class = Iris&#45;virginica</text>\n</g>\n<!-- 10&#45;&gt;11 -->\n<g id=\"edge11\" class=\"edge\">\n<title>10&#45;&gt;11</title>\n<path fill=\"none\" stroke=\"#000000\" d=\"M397.8983,-252.8642C391.7067,-243.9429 385.1986,-234.5657 378.8587,-225.4309\"/>\n<polygon fill=\"#000000\" stroke=\"#000000\" points=\"381.6746,-223.3495 373.0976,-217.1298 375.9239,-227.3407 381.6746,-223.3495\"/>\n</g>\n<!-- 14 -->\n<g id=\"node15\" class=\"node\">\n<title>14</title>\n<path fill=\"#39e581\" stroke=\"#000000\" d=\"M589,-209.5C589,-209.5 461,-209.5 461,-209.5 455,-209.5 449,-203.5 449,-197.5 449,-197.5 449,-138.5 449,-138.5 449,-132.5 455,-126.5 461,-126.5 461,-126.5 589,-126.5 589,-126.5 595,-126.5 601,-132.5 601,-138.5 601,-138.5 601,-197.5 601,-197.5 601,-203.5 595,-209.5 589,-209.5\"/>\n<text text-anchor=\"start\" x=\"494\" y=\"-194.3\" font-family=\"Helvetica,sans-Serif\" font-size=\"14.00\" fill=\"#000000\">node #14</text>\n<text text-anchor=\"start\" x=\"495.5\" y=\"-179.3\" font-family=\"Helvetica,sans-Serif\" font-size=\"14.00\" fill=\"#000000\">gini = 0.0</text>\n<text text-anchor=\"start\" x=\"473\" y=\"-164.3\" font-family=\"Helvetica,sans-Serif\" font-size=\"14.00\" fill=\"#000000\">samples = 1.9%</text>\n<text text-anchor=\"start\" x=\"457.5\" y=\"-149.3\" font-family=\"Helvetica,sans-Serif\" font-size=\"14.00\" fill=\"#000000\">value = [0.0, 1.0, 0.0]</text>\n<text text-anchor=\"start\" x=\"457\" y=\"-134.3\" font-family=\"Helvetica,sans-Serif\" font-size=\"14.00\" fill=\"#000000\">class = Iris&#45;versicolor</text>\n</g>\n<!-- 10&#45;&gt;14 -->\n<g id=\"edge14\" class=\"edge\">\n<title>10&#45;&gt;14</title>\n<path fill=\"none\" stroke=\"#000000\" d=\"M466.1017,-252.8642C473.9506,-241.555 482.308,-229.5133 490.1867,-218.1612\"/>\n<polygon fill=\"#000000\" stroke=\"#000000\" points=\"493.2755,-219.849 496.1019,-209.6381 487.5248,-215.8579 493.2755,-219.849\"/>\n</g>\n<!-- 12 -->\n<g id=\"node13\" class=\"node\">\n<title>12</title>\n<path fill=\"#39e581\" stroke=\"#000000\" d=\"M318,-83C318,-83 190,-83 190,-83 184,-83 178,-77 178,-71 178,-71 178,-12 178,-12 178,-6 184,0 190,0 190,0 318,0 318,0 324,0 330,-6 330,-12 330,-12 330,-71 330,-71 330,-77 324,-83 318,-83\"/>\n<text text-anchor=\"start\" x=\"223\" y=\"-67.8\" font-family=\"Helvetica,sans-Serif\" font-size=\"14.00\" fill=\"#000000\">node #12</text>\n<text text-anchor=\"start\" x=\"224.5\" y=\"-52.8\" font-family=\"Helvetica,sans-Serif\" font-size=\"14.00\" fill=\"#000000\">gini = 0.0</text>\n<text text-anchor=\"start\" x=\"202\" y=\"-37.8\" font-family=\"Helvetica,sans-Serif\" font-size=\"14.00\" fill=\"#000000\">samples = 1.0%</text>\n<text text-anchor=\"start\" x=\"186.5\" y=\"-22.8\" font-family=\"Helvetica,sans-Serif\" font-size=\"14.00\" fill=\"#000000\">value = [0.0, 1.0, 0.0]</text>\n<text text-anchor=\"start\" x=\"186\" y=\"-7.8\" font-family=\"Helvetica,sans-Serif\" font-size=\"14.00\" fill=\"#000000\">class = Iris&#45;versicolor</text>\n</g>\n<!-- 11&#45;&gt;12 -->\n<g id=\"edge12\" class=\"edge\">\n<title>11&#45;&gt;12</title>\n<path fill=\"none\" stroke=\"#000000\" d=\"M305.8934,-118.7296C299.8881,-109.7924 293.6195,-100.4631 287.6002,-91.505\"/>\n<polygon fill=\"#000000\" stroke=\"#000000\" points=\"290.4047,-89.4032 281.9223,-83.055 284.5945,-93.3073 290.4047,-89.4032\"/>\n</g>\n<!-- 13 -->\n<g id=\"node14\" class=\"node\">\n<title>13</title>\n<path fill=\"#8139e5\" stroke=\"#000000\" d=\"M487.5,-83C487.5,-83 360.5,-83 360.5,-83 354.5,-83 348.5,-77 348.5,-71 348.5,-71 348.5,-12 348.5,-12 348.5,-6 354.5,0 360.5,0 360.5,0 487.5,0 487.5,0 493.5,0 499.5,-6 499.5,-12 499.5,-12 499.5,-71 499.5,-71 499.5,-77 493.5,-83 487.5,-83\"/>\n<text text-anchor=\"start\" x=\"393\" y=\"-67.8\" font-family=\"Helvetica,sans-Serif\" font-size=\"14.00\" fill=\"#000000\">node #13</text>\n<text text-anchor=\"start\" x=\"394.5\" y=\"-52.8\" font-family=\"Helvetica,sans-Serif\" font-size=\"14.00\" fill=\"#000000\">gini = 0.0</text>\n<text text-anchor=\"start\" x=\"372\" y=\"-37.8\" font-family=\"Helvetica,sans-Serif\" font-size=\"14.00\" fill=\"#000000\">samples = 1.9%</text>\n<text text-anchor=\"start\" x=\"356.5\" y=\"-22.8\" font-family=\"Helvetica,sans-Serif\" font-size=\"14.00\" fill=\"#000000\">value = [0.0, 0.0, 1.0]</text>\n<text text-anchor=\"start\" x=\"360.5\" y=\"-7.8\" font-family=\"Helvetica,sans-Serif\" font-size=\"14.00\" fill=\"#000000\">class = Iris&#45;virginica</text>\n</g>\n<!-- 11&#45;&gt;13 -->\n<g id=\"edge13\" class=\"edge\">\n<title>11&#45;&gt;13</title>\n<path fill=\"none\" stroke=\"#000000\" d=\"M372.1066,-118.7296C378.1119,-109.7924 384.3805,-100.4631 390.3998,-91.505\"/>\n<polygon fill=\"#000000\" stroke=\"#000000\" points=\"393.4055,-93.3073 396.0777,-83.055 387.5953,-89.4032 393.4055,-93.3073\"/>\n</g>\n</g>\n</svg>\n"
          },
          "metadata": {
            "tags": []
          },
          "execution_count": 233
        }
      ]
    },
    {
      "cell_type": "code",
      "metadata": {
        "id": "5FsGS2t1YqB0"
      },
      "source": [
        ""
      ],
      "execution_count": null,
      "outputs": []
    }
  ]
}